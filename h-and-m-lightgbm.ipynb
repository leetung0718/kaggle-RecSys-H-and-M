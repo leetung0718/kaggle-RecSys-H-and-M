{
 "cells": [
  {
   "cell_type": "markdown",
   "id": "e3c39ace",
   "metadata": {
    "papermill": {
     "duration": 0.053862,
     "end_time": "2022-02-26T05:50:50.115609",
     "exception": false,
     "start_time": "2022-02-26T05:50:50.061747",
     "status": "completed"
    },
    "tags": []
   },
   "source": [
    "**I tried binary classification solution using LightGBM like CTR prediction**  \n",
    "**Please upvote if this notebook is useful!**"
   ]
  },
  {
   "cell_type": "code",
   "execution_count": 56,
   "id": "9c702fd0",
   "metadata": {},
   "outputs": [],
   "source": [
    "import os\n",
    "import sys"
   ]
  },
  {
   "cell_type": "code",
   "execution_count": 60,
   "id": "059c9d84",
   "metadata": {
    "_cell_guid": "b1076dfc-b9ad-4769-8c92-a6c4dae69d19",
    "_uuid": "8f2839f25d086af736a60e9eeb907d3b93b6e0e5",
    "execution": {
     "iopub.execute_input": "2022-02-26T05:50:50.237654Z",
     "iopub.status.busy": "2022-02-26T05:50:50.236797Z",
     "iopub.status.idle": "2022-02-26T05:50:52.365272Z",
     "shell.execute_reply": "2022-02-26T05:50:52.364586Z",
     "shell.execute_reply.started": "2022-02-26T05:46:17.127738Z"
    },
    "papermill": {
     "duration": 2.195767,
     "end_time": "2022-02-26T05:50:52.365449",
     "exception": false,
     "start_time": "2022-02-26T05:50:50.169682",
     "status": "completed"
    },
    "tags": []
   },
   "outputs": [],
   "source": [
    "import pandas as pd\n",
    "import numpy as np\n",
    "import gc\n",
    "\n",
    "from sklearn.model_selection import StratifiedKFold\n",
    "from sklearn.metrics import roc_auc_score\n",
    "import lightgbm\n",
    "from lightgbm import LGBMClassifier, early_stopping, log_evaluation\n",
    "\n",
    "import joblib\n",
    "import re\n"
   ]
  },
  {
   "cell_type": "code",
   "execution_count": 3,
   "id": "1a77d712",
   "metadata": {},
   "outputs": [],
   "source": [
    "import tqdm\n",
    "import matplotlib.pyplot as plt\n",
    "import seaborn as sns"
   ]
  },
  {
   "cell_type": "code",
   "execution_count": 62,
   "id": "b9833f62",
   "metadata": {},
   "outputs": [
    {
     "name": "stdout",
     "output_type": "stream",
     "text": [
      "System Version: 3.8.16 (default, Mar  1 2023, 21:19:10) \n",
      "[Clang 14.0.6 ]\n",
      "lightgbm Version: 3.3.5\n"
     ]
    }
   ],
   "source": [
    "print(f\"System Version: {sys.version}\")\n",
    "print(f\"lightgbm Version: {lightgbm.__version__}\")\n"
   ]
  },
  {
   "cell_type": "code",
   "execution_count": 4,
   "id": "0911c5a8",
   "metadata": {
    "execution": {
     "iopub.execute_input": "2022-02-26T05:50:52.477794Z",
     "iopub.status.busy": "2022-02-26T05:50:52.477131Z",
     "iopub.status.idle": "2022-02-26T05:50:52.485316Z",
     "shell.execute_reply": "2022-02-26T05:50:52.484562Z",
     "shell.execute_reply.started": "2022-02-26T05:46:19.310444Z"
    },
    "papermill": {
     "duration": 0.066417,
     "end_time": "2022-02-26T05:50:52.485484",
     "exception": false,
     "start_time": "2022-02-26T05:50:52.419067",
     "status": "completed"
    },
    "tags": []
   },
   "outputs": [],
   "source": [
    "class Config:\n",
    "    transaction_path = \"h-and-m-personalized-fashion-recommendations/transactions_train.csv\"\n",
    "    transaction_2020_path = \"h-and-m-split-dataset-by-year/transactions_train_2020.csv\"\n",
    "    transaction_2019_path = \"h-and-m-split-dataset-by-year/transactions_train_2019.csv\"\n",
    "    customer_path = \"h-and-m-personalized-fashion-recommendations/customers.csv\"\n",
    "    article_path = \"h-and-m-personalized-fashion-recommendations/articles.csv\"\n",
    "    image_feat_path = \"h-and-m-swint-image-embedding/swin_tiny_patch4_window7_224_emb.csv.gz\"\n",
    "    sample_submission_path = \"h-and-m-personalized-fashion-recommendations/sample_submission.csv\"\n",
    "\n",
    "    output_dir = \"output/\"\n",
    "    #start_date = '2020-08-01'\n",
    "    start_date = '2020-09-15'\n",
    "\n",
    "    image_feat_dim = 768\n",
    "    text_feat_dim = 384\n",
    "    \n",
    "    #n_fold = 2\n",
    "    n_fold = 5\n",
    "    seed = 2022\n",
    "    lgbm = {\"n_estimators\" :50}\n",
    "\n",
    "    label = \"label\"\n",
    "\n",
    "os.makedirs(Config.output_dir, exist_ok=True)"
   ]
  },
  {
   "cell_type": "code",
   "execution_count": 5,
   "id": "af4235c7",
   "metadata": {
    "execution": {
     "iopub.execute_input": "2022-02-26T05:50:52.603352Z",
     "iopub.status.busy": "2022-02-26T05:50:52.602320Z",
     "iopub.status.idle": "2022-02-26T05:50:52.613007Z",
     "shell.execute_reply": "2022-02-26T05:50:52.613567Z",
     "shell.execute_reply.started": "2022-02-26T05:46:19.318304Z"
    },
    "papermill": {
     "duration": 0.074202,
     "end_time": "2022-02-26T05:50:52.613733",
     "exception": false,
     "start_time": "2022-02-26T05:50:52.539531",
     "status": "completed"
    },
    "tags": []
   },
   "outputs": [],
   "source": [
    "# https://www.kaggle.com/gemartin/load-data-reduce-memory-usage\n",
    "def reduce_mem_usage(df):\n",
    "    \"\"\" iterate through all the columns of a dataframe and modify the data type\n",
    "        to reduce memory usage.        \n",
    "    \"\"\"\n",
    "    start_mem = df.memory_usage().sum() / 1024**2\n",
    "    print('Memory usage of dataframe is {:.2f} MB'.format(start_mem))\n",
    "    \n",
    "    for col in df.columns:\n",
    "        col_type = df[col].dtype\n",
    "        \n",
    "        if col_type != object:\n",
    "            c_min = df[col].min()\n",
    "            c_max = df[col].max()\n",
    "            if str(col_type)[:3] == 'int':\n",
    "                if c_min > np.iinfo(np.int8).min and c_max < np.iinfo(np.int8).max:\n",
    "                    df[col] = df[col].astype(np.int8)\n",
    "                elif c_min > np.iinfo(np.int16).min and c_max < np.iinfo(np.int16).max:\n",
    "                    df[col] = df[col].astype(np.int16)\n",
    "                elif c_min > np.iinfo(np.int32).min and c_max < np.iinfo(np.int32).max:\n",
    "                    df[col] = df[col].astype(np.int32)\n",
    "                elif c_min > np.iinfo(np.int64).min and c_max < np.iinfo(np.int64).max:\n",
    "                    df[col] = df[col].astype(np.int64)  \n",
    "            else:\n",
    "                if c_min > np.finfo(np.float16).min and c_max < np.finfo(np.float16).max:\n",
    "                    df[col] = df[col].astype(np.float16)\n",
    "                elif c_min > np.finfo(np.float32).min and c_max < np.finfo(np.float32).max:\n",
    "                    df[col] = df[col].astype(np.float32)\n",
    "                else:\n",
    "                    df[col] = df[col].astype(np.float64)\n",
    "        else:\n",
    "            df[col] = df[col].astype('category')\n",
    "\n",
    "    end_mem = df.memory_usage().sum() / 1024**2\n",
    "    print('Memory usage after optimization is: {:.2f} MB'.format(end_mem))\n",
    "    print('Decreased by {:.1f}%'.format(100 * (start_mem - end_mem) / start_mem))\n",
    "    \n",
    "    return df\n",
    "\n",
    "def import_data(file):\n",
    "    \"\"\"create a dataframe and optimize its memory usage\"\"\"\n",
    "    df = pd.read_csv(file, parse_dates=True, keep_date_col=True)\n",
    "    df = reduce_mem_usage(df)\n",
    "    return df"
   ]
  },
  {
   "cell_type": "markdown",
   "id": "9d73187d",
   "metadata": {
    "papermill": {
     "duration": 0.052781,
     "end_time": "2022-02-26T05:50:52.719833",
     "exception": false,
     "start_time": "2022-02-26T05:50:52.667052",
     "status": "completed"
    },
    "tags": []
   },
   "source": [
    "# preprae truth/false\n",
    "\n",
    "Given transaction data, that are user-item pairs, are defined as positive data.  \n",
    "Negative data are created by shuffing user-item pairs."
   ]
  },
  {
   "cell_type": "code",
   "execution_count": 6,
   "id": "db2ab749",
   "metadata": {
    "execution": {
     "iopub.execute_input": "2022-02-26T05:50:52.834478Z",
     "iopub.status.busy": "2022-02-26T05:50:52.833761Z",
     "iopub.status.idle": "2022-02-26T05:51:15.655410Z",
     "shell.execute_reply": "2022-02-26T05:51:15.654466Z",
     "shell.execute_reply.started": "2022-02-26T05:46:19.334948Z"
    },
    "papermill": {
     "duration": 22.880605,
     "end_time": "2022-02-26T05:51:15.655613",
     "exception": false,
     "start_time": "2022-02-26T05:50:52.775008",
     "status": "completed"
    },
    "tags": []
   },
   "outputs": [
    {
     "name": "stdout",
     "output_type": "stream",
     "text": [
      "Memory usage of dataframe is 10.16 MB\n",
      "Memory usage after optimization is: 5.64 MB\n",
      "Decreased by 44.5%\n"
     ]
    }
   ],
   "source": [
    "df_trans = pd.read_csv(Config.transaction_2020_path)\n",
    "df_trans = df_trans[df_trans[\"t_dat\"] >= Config.start_date].reset_index(drop=True)\n",
    "df_trans = reduce_mem_usage(df_trans)"
   ]
  },
  {
   "cell_type": "code",
   "execution_count": 7,
   "id": "4cadb1a9",
   "metadata": {
    "execution": {
     "iopub.execute_input": "2022-02-26T05:51:15.774049Z",
     "iopub.status.busy": "2022-02-26T05:51:15.773389Z",
     "iopub.status.idle": "2022-02-26T05:51:15.784053Z",
     "shell.execute_reply": "2022-02-26T05:51:15.784648Z",
     "shell.execute_reply.started": "2022-02-26T05:46:40.519427Z"
    },
    "papermill": {
     "duration": 0.072232,
     "end_time": "2022-02-26T05:51:15.784860",
     "exception": false,
     "start_time": "2022-02-26T05:51:15.712628",
     "status": "completed"
    },
    "tags": []
   },
   "outputs": [
    {
     "data": {
      "text/html": [
       "<div>\n",
       "<style scoped>\n",
       "    .dataframe tbody tr th:only-of-type {\n",
       "        vertical-align: middle;\n",
       "    }\n",
       "\n",
       "    .dataframe tbody tr th {\n",
       "        vertical-align: top;\n",
       "    }\n",
       "\n",
       "    .dataframe thead th {\n",
       "        text-align: right;\n",
       "    }\n",
       "</style>\n",
       "<table border=\"1\" class=\"dataframe\">\n",
       "  <thead>\n",
       "    <tr style=\"text-align: right;\">\n",
       "      <th></th>\n",
       "      <th>customer_id</th>\n",
       "      <th>article_id</th>\n",
       "    </tr>\n",
       "  </thead>\n",
       "  <tbody>\n",
       "    <tr>\n",
       "      <th>0</th>\n",
       "      <td>000058a12d5b43e67d225668fa1f8d618c13dc232df0ca...</td>\n",
       "      <td>794321007</td>\n",
       "    </tr>\n",
       "    <tr>\n",
       "      <th>1</th>\n",
       "      <td>00040239317e877c77ac6e79df42eb2633ad38fcac09fc...</td>\n",
       "      <td>875272011</td>\n",
       "    </tr>\n",
       "    <tr>\n",
       "      <th>2</th>\n",
       "      <td>00040239317e877c77ac6e79df42eb2633ad38fcac09fc...</td>\n",
       "      <td>875272012</td>\n",
       "    </tr>\n",
       "    <tr>\n",
       "      <th>3</th>\n",
       "      <td>000749135ee9aa3a24c2316ea5ae4f495b39c1653c5612...</td>\n",
       "      <td>800691007</td>\n",
       "    </tr>\n",
       "    <tr>\n",
       "      <th>4</th>\n",
       "      <td>000749135ee9aa3a24c2316ea5ae4f495b39c1653c5612...</td>\n",
       "      <td>800691007</td>\n",
       "    </tr>\n",
       "  </tbody>\n",
       "</table>\n",
       "</div>"
      ],
      "text/plain": [
       "                                         customer_id  article_id\n",
       "0  000058a12d5b43e67d225668fa1f8d618c13dc232df0ca...   794321007\n",
       "1  00040239317e877c77ac6e79df42eb2633ad38fcac09fc...   875272011\n",
       "2  00040239317e877c77ac6e79df42eb2633ad38fcac09fc...   875272012\n",
       "3  000749135ee9aa3a24c2316ea5ae4f495b39c1653c5612...   800691007\n",
       "4  000749135ee9aa3a24c2316ea5ae4f495b39c1653c5612...   800691007"
      ]
     },
     "execution_count": 7,
     "metadata": {},
     "output_type": "execute_result"
    }
   ],
   "source": [
    "df_truth = df_trans[[\"customer_id\", \"article_id\"]]\n",
    "df_truth.head()"
   ]
  },
  {
   "cell_type": "code",
   "execution_count": 8,
   "id": "7b59cde8",
   "metadata": {
    "execution": {
     "iopub.execute_input": "2022-02-26T05:51:15.901838Z",
     "iopub.status.busy": "2022-02-26T05:51:15.900760Z",
     "iopub.status.idle": "2022-02-26T05:51:15.905064Z",
     "shell.execute_reply": "2022-02-26T05:51:15.905625Z",
     "shell.execute_reply.started": "2022-02-26T05:46:40.537510Z"
    },
    "papermill": {
     "duration": 0.063754,
     "end_time": "2022-02-26T05:51:15.905804",
     "exception": false,
     "start_time": "2022-02-26T05:51:15.842050",
     "status": "completed"
    },
    "tags": []
   },
   "outputs": [],
   "source": [
    "del df_trans"
   ]
  },
  {
   "cell_type": "code",
   "execution_count": 9,
   "id": "bea7c331",
   "metadata": {
    "execution": {
     "iopub.execute_input": "2022-02-26T05:51:16.026362Z",
     "iopub.status.busy": "2022-02-26T05:51:16.025648Z",
     "iopub.status.idle": "2022-02-26T05:51:16.202244Z",
     "shell.execute_reply": "2022-02-26T05:51:16.201678Z",
     "shell.execute_reply.started": "2022-02-26T05:46:40.545233Z"
    },
    "papermill": {
     "duration": 0.23841,
     "end_time": "2022-02-26T05:51:16.202384",
     "exception": false,
     "start_time": "2022-02-26T05:51:15.963974",
     "status": "completed"
    },
    "tags": []
   },
   "outputs": [
    {
     "data": {
      "text/html": [
       "<div>\n",
       "<style scoped>\n",
       "    .dataframe tbody tr th:only-of-type {\n",
       "        vertical-align: middle;\n",
       "    }\n",
       "\n",
       "    .dataframe tbody tr th {\n",
       "        vertical-align: top;\n",
       "    }\n",
       "\n",
       "    .dataframe thead th {\n",
       "        text-align: right;\n",
       "    }\n",
       "</style>\n",
       "<table border=\"1\" class=\"dataframe\">\n",
       "  <thead>\n",
       "    <tr style=\"text-align: right;\">\n",
       "      <th></th>\n",
       "      <th>customer_id</th>\n",
       "      <th>article_id</th>\n",
       "    </tr>\n",
       "  </thead>\n",
       "  <tbody>\n",
       "    <tr>\n",
       "      <th>0</th>\n",
       "      <td>000058a12d5b43e67d225668fa1f8d618c13dc232df0ca...</td>\n",
       "      <td>915526002</td>\n",
       "    </tr>\n",
       "    <tr>\n",
       "      <th>1</th>\n",
       "      <td>00040239317e877c77ac6e79df42eb2633ad38fcac09fc...</td>\n",
       "      <td>785855001</td>\n",
       "    </tr>\n",
       "    <tr>\n",
       "      <th>2</th>\n",
       "      <td>00040239317e877c77ac6e79df42eb2633ad38fcac09fc...</td>\n",
       "      <td>697564057</td>\n",
       "    </tr>\n",
       "    <tr>\n",
       "      <th>3</th>\n",
       "      <td>000749135ee9aa3a24c2316ea5ae4f495b39c1653c5612...</td>\n",
       "      <td>751471001</td>\n",
       "    </tr>\n",
       "    <tr>\n",
       "      <th>4</th>\n",
       "      <td>000749135ee9aa3a24c2316ea5ae4f495b39c1653c5612...</td>\n",
       "      <td>790365001</td>\n",
       "    </tr>\n",
       "  </tbody>\n",
       "</table>\n",
       "</div>"
      ],
      "text/plain": [
       "                                         customer_id  article_id\n",
       "0  000058a12d5b43e67d225668fa1f8d618c13dc232df0ca...   915526002\n",
       "1  00040239317e877c77ac6e79df42eb2633ad38fcac09fc...   785855001\n",
       "2  00040239317e877c77ac6e79df42eb2633ad38fcac09fc...   697564057\n",
       "3  000749135ee9aa3a24c2316ea5ae4f495b39c1653c5612...   751471001\n",
       "4  000749135ee9aa3a24c2316ea5ae4f495b39c1653c5612...   790365001"
      ]
     },
     "execution_count": 9,
     "metadata": {},
     "output_type": "execute_result"
    }
   ],
   "source": [
    "df_false = df_truth.copy()\n",
    "df_false.loc[:, \"article_id\"] = df_false[\"article_id\"].sample(frac=1).tolist()\n",
    "df_false.head()"
   ]
  },
  {
   "cell_type": "code",
   "execution_count": 10,
   "id": "fc7f0639",
   "metadata": {
    "execution": {
     "iopub.execute_input": "2022-02-26T05:51:16.315686Z",
     "iopub.status.busy": "2022-02-26T05:51:16.315025Z",
     "iopub.status.idle": "2022-02-26T05:51:16.320786Z",
     "shell.execute_reply": "2022-02-26T05:51:16.321301Z",
     "shell.execute_reply.started": "2022-02-26T05:46:40.667369Z"
    },
    "papermill": {
     "duration": 0.063975,
     "end_time": "2022-02-26T05:51:16.321468",
     "exception": false,
     "start_time": "2022-02-26T05:51:16.257493",
     "status": "completed"
    },
    "tags": []
   },
   "outputs": [],
   "source": [
    "df_truth.loc[:, Config.label] = 1\n",
    "df_false.loc[:, Config.label] = 0"
   ]
  },
  {
   "cell_type": "code",
   "execution_count": 11,
   "id": "c356b86f",
   "metadata": {
    "execution": {
     "iopub.execute_input": "2022-02-26T05:51:16.437386Z",
     "iopub.status.busy": "2022-02-26T05:51:16.436716Z",
     "iopub.status.idle": "2022-02-26T05:51:16.488788Z",
     "shell.execute_reply": "2022-02-26T05:51:16.488219Z",
     "shell.execute_reply.started": "2022-02-26T05:46:40.675506Z"
    },
    "papermill": {
     "duration": 0.111668,
     "end_time": "2022-02-26T05:51:16.488928",
     "exception": false,
     "start_time": "2022-02-26T05:51:16.377260",
     "status": "completed"
    },
    "tags": []
   },
   "outputs": [
    {
     "data": {
      "text/plain": [
       "((532728, 3),)"
      ]
     },
     "execution_count": 11,
     "metadata": {},
     "output_type": "execute_result"
    }
   ],
   "source": [
    "df_truth = pd.concat([df_truth, df_false])\n",
    "df_truth.shape, "
   ]
  },
  {
   "cell_type": "code",
   "execution_count": 12,
   "id": "1f9e33e5",
   "metadata": {
    "execution": {
     "iopub.execute_input": "2022-02-26T05:51:16.605757Z",
     "iopub.status.busy": "2022-02-26T05:51:16.605044Z",
     "iopub.status.idle": "2022-02-26T05:51:16.634208Z",
     "shell.execute_reply": "2022-02-26T05:51:16.634721Z",
     "shell.execute_reply.started": "2022-02-26T05:46:40.735345Z"
    },
    "papermill": {
     "duration": 0.087849,
     "end_time": "2022-02-26T05:51:16.634892",
     "exception": false,
     "start_time": "2022-02-26T05:51:16.547043",
     "status": "completed"
    },
    "tags": []
   },
   "outputs": [
    {
     "data": {
      "text/plain": [
       "((266364, 3), (266364, 3))"
      ]
     },
     "execution_count": 12,
     "metadata": {},
     "output_type": "execute_result"
    }
   ],
   "source": [
    "df_truth[df_truth[\"label\"] ==1].shape,  df_truth[df_truth[\"label\"] ==0].shape, "
   ]
  },
  {
   "cell_type": "code",
   "execution_count": 13,
   "id": "003ff5df",
   "metadata": {
    "execution": {
     "iopub.execute_input": "2022-02-26T05:51:16.755267Z",
     "iopub.status.busy": "2022-02-26T05:51:16.754377Z",
     "iopub.status.idle": "2022-02-26T05:51:16.757168Z",
     "shell.execute_reply": "2022-02-26T05:51:16.756629Z",
     "shell.execute_reply.started": "2022-02-26T05:46:40.768865Z"
    },
    "papermill": {
     "duration": 0.063568,
     "end_time": "2022-02-26T05:51:16.757311",
     "exception": false,
     "start_time": "2022-02-26T05:51:16.693743",
     "status": "completed"
    },
    "tags": []
   },
   "outputs": [],
   "source": [
    "del df_false"
   ]
  },
  {
   "cell_type": "markdown",
   "id": "346136d5",
   "metadata": {
    "papermill": {
     "duration": 0.05829,
     "end_time": "2022-02-26T05:51:16.872758",
     "exception": false,
     "start_time": "2022-02-26T05:51:16.814468",
     "status": "completed"
    },
    "tags": []
   },
   "source": [
    "# Preprocessing\n",
    "## prepare article feat"
   ]
  },
  {
   "cell_type": "code",
   "execution_count": 14,
   "id": "8bb3b66b",
   "metadata": {
    "execution": {
     "iopub.execute_input": "2022-02-26T05:51:16.991792Z",
     "iopub.status.busy": "2022-02-26T05:51:16.991022Z",
     "iopub.status.idle": "2022-02-26T05:51:18.453131Z",
     "shell.execute_reply": "2022-02-26T05:51:18.452367Z",
     "shell.execute_reply.started": "2022-02-26T05:46:40.774669Z"
    },
    "papermill": {
     "duration": 1.522512,
     "end_time": "2022-02-26T05:51:18.453332",
     "exception": false,
     "start_time": "2022-02-26T05:51:16.930820",
     "status": "completed"
    },
    "tags": []
   },
   "outputs": [
    {
     "name": "stdout",
     "output_type": "stream",
     "text": [
      "Memory usage of dataframe is 20.13 MB\n",
      "Memory usage after optimization is: 7.25 MB\n",
      "Decreased by 64.0%\n"
     ]
    }
   ],
   "source": [
    "df_article = import_data(Config.article_path)\n",
    "#df_image = import_data(Config.image_feat_path)\n",
    "#df_text = import_data(Config.text_feat_path)"
   ]
  },
  {
   "cell_type": "code",
   "execution_count": 15,
   "id": "5673db39",
   "metadata": {
    "execution": {
     "iopub.execute_input": "2022-02-26T05:51:18.575952Z",
     "iopub.status.busy": "2022-02-26T05:51:18.574945Z",
     "iopub.status.idle": "2022-02-26T05:51:18.577811Z",
     "shell.execute_reply": "2022-02-26T05:51:18.577199Z",
     "shell.execute_reply.started": "2022-02-26T05:46:42.187500Z"
    },
    "papermill": {
     "duration": 0.067001,
     "end_time": "2022-02-26T05:51:18.577944",
     "exception": false,
     "start_time": "2022-02-26T05:51:18.510943",
     "status": "completed"
    },
    "tags": []
   },
   "outputs": [],
   "source": [
    "def get_table_feat(df):\n",
    "        \n",
    "    article_id_cols = [\"product_code\", \"product_type_no\", \"graphical_appearance_no\", \"colour_group_code\",\n",
    "              \"perceived_colour_value_id\", \"perceived_colour_master_id\", \"department_no\", \"index_group_no\", \n",
    "               \"section_no\", \"garment_group_no\"]\n",
    "    \n",
    "    article_dummy_cols = [\"product_type_name\", \"product_group_name\", \"graphical_appearance_name\", \"colour_group_name\",\n",
    "                         \"perceived_colour_value_name\", \"perceived_colour_master_name\", \n",
    "                         #\"department_name\", \n",
    "                         \"index_name\", \"index_group_name\", \"section_name\", \"garment_group_name\"]\n",
    "    \n",
    "    article_drop_cols = [\"index_code\", \"prod_name\", \"detail_desc\", \"department_name\"]\n",
    "    \n",
    "    df = df.drop(article_drop_cols, axis=1)\n",
    "    df = pd.get_dummies(df, columns=article_dummy_cols)\n",
    "    return df\n",
    "    \n",
    "def create_article_feat(df_article, \n",
    "                        #df_image\n",
    "                        ):\n",
    "\n",
    "    # rename image \n",
    "    #rename_dic = {f\"{i}\": f\"image_col_{i}\" for i in range(Config.image_feat_dim)}\n",
    "    #df_image = df_image.rename(columns=rename_dic)\n",
    "\n",
    "    df_article_feat = get_table_feat(df_article)\n",
    "    #df_article_feat = df_article_feat.merge(df_image, on=\"article_id\", how=\"left\")\n",
    "\n",
    "    return df_article_feat"
   ]
  },
  {
   "cell_type": "code",
   "execution_count": 16,
   "id": "a107329a",
   "metadata": {
    "execution": {
     "iopub.execute_input": "2022-02-26T05:51:18.697359Z",
     "iopub.status.busy": "2022-02-26T05:51:18.696345Z",
     "iopub.status.idle": "2022-02-26T05:51:18.946857Z",
     "shell.execute_reply": "2022-02-26T05:51:18.946096Z",
     "shell.execute_reply.started": "2022-02-26T05:46:42.196784Z"
    },
    "papermill": {
     "duration": 0.312334,
     "end_time": "2022-02-26T05:51:18.946998",
     "exception": false,
     "start_time": "2022-02-26T05:51:18.634664",
     "status": "completed"
    },
    "tags": []
   },
   "outputs": [],
   "source": [
    "#df_article_feat = create_article_feat(df_article, df_image, df_text)\n",
    "df_article_feat = create_article_feat(df_article)"
   ]
  },
  {
   "cell_type": "code",
   "execution_count": 17,
   "id": "078655d4",
   "metadata": {
    "execution": {
     "iopub.execute_input": "2022-02-26T05:51:19.068496Z",
     "iopub.status.busy": "2022-02-26T05:51:19.067856Z",
     "iopub.status.idle": "2022-02-26T05:51:19.082933Z",
     "shell.execute_reply": "2022-02-26T05:51:19.083510Z",
     "shell.execute_reply.started": "2022-02-26T05:46:42.467659Z"
    },
    "papermill": {
     "duration": 0.079603,
     "end_time": "2022-02-26T05:51:19.083683",
     "exception": false,
     "start_time": "2022-02-26T05:51:19.004080",
     "status": "completed"
    },
    "tags": []
   },
   "outputs": [
    {
     "data": {
      "text/html": [
       "<div>\n",
       "<style scoped>\n",
       "    .dataframe tbody tr th:only-of-type {\n",
       "        vertical-align: middle;\n",
       "    }\n",
       "\n",
       "    .dataframe tbody tr th {\n",
       "        vertical-align: top;\n",
       "    }\n",
       "\n",
       "    .dataframe thead th {\n",
       "        text-align: right;\n",
       "    }\n",
       "</style>\n",
       "<table border=\"1\" class=\"dataframe\">\n",
       "  <thead>\n",
       "    <tr style=\"text-align: right;\">\n",
       "      <th></th>\n",
       "      <th>article_id</th>\n",
       "      <th>product_code</th>\n",
       "      <th>product_type_no</th>\n",
       "      <th>graphical_appearance_no</th>\n",
       "      <th>colour_group_code</th>\n",
       "      <th>perceived_colour_value_id</th>\n",
       "      <th>perceived_colour_master_id</th>\n",
       "      <th>department_no</th>\n",
       "      <th>index_group_no</th>\n",
       "      <th>section_no</th>\n",
       "      <th>...</th>\n",
       "      <th>garment_group_name_Shorts</th>\n",
       "      <th>garment_group_name_Skirts</th>\n",
       "      <th>garment_group_name_Socks and Tights</th>\n",
       "      <th>garment_group_name_Special Offers</th>\n",
       "      <th>garment_group_name_Swimwear</th>\n",
       "      <th>garment_group_name_Trousers</th>\n",
       "      <th>garment_group_name_Trousers Denim</th>\n",
       "      <th>garment_group_name_Under-, Nightwear</th>\n",
       "      <th>garment_group_name_Unknown</th>\n",
       "      <th>garment_group_name_Woven/Jersey/Knitted mix Baby</th>\n",
       "    </tr>\n",
       "  </thead>\n",
       "  <tbody>\n",
       "    <tr>\n",
       "      <th>0</th>\n",
       "      <td>108775015</td>\n",
       "      <td>108775</td>\n",
       "      <td>253</td>\n",
       "      <td>1010016</td>\n",
       "      <td>9</td>\n",
       "      <td>4</td>\n",
       "      <td>5</td>\n",
       "      <td>1676</td>\n",
       "      <td>1</td>\n",
       "      <td>16</td>\n",
       "      <td>...</td>\n",
       "      <td>0</td>\n",
       "      <td>0</td>\n",
       "      <td>0</td>\n",
       "      <td>0</td>\n",
       "      <td>0</td>\n",
       "      <td>0</td>\n",
       "      <td>0</td>\n",
       "      <td>0</td>\n",
       "      <td>0</td>\n",
       "      <td>0</td>\n",
       "    </tr>\n",
       "    <tr>\n",
       "      <th>1</th>\n",
       "      <td>108775044</td>\n",
       "      <td>108775</td>\n",
       "      <td>253</td>\n",
       "      <td>1010016</td>\n",
       "      <td>10</td>\n",
       "      <td>3</td>\n",
       "      <td>9</td>\n",
       "      <td>1676</td>\n",
       "      <td>1</td>\n",
       "      <td>16</td>\n",
       "      <td>...</td>\n",
       "      <td>0</td>\n",
       "      <td>0</td>\n",
       "      <td>0</td>\n",
       "      <td>0</td>\n",
       "      <td>0</td>\n",
       "      <td>0</td>\n",
       "      <td>0</td>\n",
       "      <td>0</td>\n",
       "      <td>0</td>\n",
       "      <td>0</td>\n",
       "    </tr>\n",
       "    <tr>\n",
       "      <th>2</th>\n",
       "      <td>108775051</td>\n",
       "      <td>108775</td>\n",
       "      <td>253</td>\n",
       "      <td>1010017</td>\n",
       "      <td>11</td>\n",
       "      <td>1</td>\n",
       "      <td>9</td>\n",
       "      <td>1676</td>\n",
       "      <td>1</td>\n",
       "      <td>16</td>\n",
       "      <td>...</td>\n",
       "      <td>0</td>\n",
       "      <td>0</td>\n",
       "      <td>0</td>\n",
       "      <td>0</td>\n",
       "      <td>0</td>\n",
       "      <td>0</td>\n",
       "      <td>0</td>\n",
       "      <td>0</td>\n",
       "      <td>0</td>\n",
       "      <td>0</td>\n",
       "    </tr>\n",
       "    <tr>\n",
       "      <th>3</th>\n",
       "      <td>110065001</td>\n",
       "      <td>110065</td>\n",
       "      <td>306</td>\n",
       "      <td>1010016</td>\n",
       "      <td>9</td>\n",
       "      <td>4</td>\n",
       "      <td>5</td>\n",
       "      <td>1339</td>\n",
       "      <td>1</td>\n",
       "      <td>61</td>\n",
       "      <td>...</td>\n",
       "      <td>0</td>\n",
       "      <td>0</td>\n",
       "      <td>0</td>\n",
       "      <td>0</td>\n",
       "      <td>0</td>\n",
       "      <td>0</td>\n",
       "      <td>0</td>\n",
       "      <td>1</td>\n",
       "      <td>0</td>\n",
       "      <td>0</td>\n",
       "    </tr>\n",
       "    <tr>\n",
       "      <th>4</th>\n",
       "      <td>110065002</td>\n",
       "      <td>110065</td>\n",
       "      <td>306</td>\n",
       "      <td>1010016</td>\n",
       "      <td>10</td>\n",
       "      <td>3</td>\n",
       "      <td>9</td>\n",
       "      <td>1339</td>\n",
       "      <td>1</td>\n",
       "      <td>61</td>\n",
       "      <td>...</td>\n",
       "      <td>0</td>\n",
       "      <td>0</td>\n",
       "      <td>0</td>\n",
       "      <td>0</td>\n",
       "      <td>0</td>\n",
       "      <td>0</td>\n",
       "      <td>0</td>\n",
       "      <td>1</td>\n",
       "      <td>0</td>\n",
       "      <td>0</td>\n",
       "    </tr>\n",
       "  </tbody>\n",
       "</table>\n",
       "<p>5 rows × 361 columns</p>\n",
       "</div>"
      ],
      "text/plain": [
       "   article_id  product_code  product_type_no  graphical_appearance_no  \\\n",
       "0   108775015        108775              253                  1010016   \n",
       "1   108775044        108775              253                  1010016   \n",
       "2   108775051        108775              253                  1010017   \n",
       "3   110065001        110065              306                  1010016   \n",
       "4   110065002        110065              306                  1010016   \n",
       "\n",
       "   colour_group_code  perceived_colour_value_id  perceived_colour_master_id  \\\n",
       "0                  9                          4                           5   \n",
       "1                 10                          3                           9   \n",
       "2                 11                          1                           9   \n",
       "3                  9                          4                           5   \n",
       "4                 10                          3                           9   \n",
       "\n",
       "   department_no  index_group_no  section_no  ...  garment_group_name_Shorts  \\\n",
       "0           1676               1          16  ...                          0   \n",
       "1           1676               1          16  ...                          0   \n",
       "2           1676               1          16  ...                          0   \n",
       "3           1339               1          61  ...                          0   \n",
       "4           1339               1          61  ...                          0   \n",
       "\n",
       "   garment_group_name_Skirts  garment_group_name_Socks and Tights  \\\n",
       "0                          0                                    0   \n",
       "1                          0                                    0   \n",
       "2                          0                                    0   \n",
       "3                          0                                    0   \n",
       "4                          0                                    0   \n",
       "\n",
       "   garment_group_name_Special Offers  garment_group_name_Swimwear  \\\n",
       "0                                  0                            0   \n",
       "1                                  0                            0   \n",
       "2                                  0                            0   \n",
       "3                                  0                            0   \n",
       "4                                  0                            0   \n",
       "\n",
       "   garment_group_name_Trousers  garment_group_name_Trousers Denim  \\\n",
       "0                            0                                  0   \n",
       "1                            0                                  0   \n",
       "2                            0                                  0   \n",
       "3                            0                                  0   \n",
       "4                            0                                  0   \n",
       "\n",
       "   garment_group_name_Under-, Nightwear  garment_group_name_Unknown  \\\n",
       "0                                     0                           0   \n",
       "1                                     0                           0   \n",
       "2                                     0                           0   \n",
       "3                                     1                           0   \n",
       "4                                     1                           0   \n",
       "\n",
       "   garment_group_name_Woven/Jersey/Knitted mix Baby  \n",
       "0                                                 0  \n",
       "1                                                 0  \n",
       "2                                                 0  \n",
       "3                                                 0  \n",
       "4                                                 0  \n",
       "\n",
       "[5 rows x 361 columns]"
      ]
     },
     "execution_count": 17,
     "metadata": {},
     "output_type": "execute_result"
    }
   ],
   "source": [
    "df_article_feat.head()"
   ]
  },
  {
   "cell_type": "code",
   "execution_count": 18,
   "id": "7b3b6632",
   "metadata": {
    "execution": {
     "iopub.execute_input": "2022-02-26T05:51:19.209340Z",
     "iopub.status.busy": "2022-02-26T05:51:19.208673Z",
     "iopub.status.idle": "2022-02-26T05:51:19.212126Z",
     "shell.execute_reply": "2022-02-26T05:51:19.211485Z",
     "shell.execute_reply.started": "2022-02-26T05:46:42.491663Z"
    },
    "papermill": {
     "duration": 0.07021,
     "end_time": "2022-02-26T05:51:19.212260",
     "exception": false,
     "start_time": "2022-02-26T05:51:19.142050",
     "status": "completed"
    },
    "tags": []
   },
   "outputs": [],
   "source": [
    "#del df_article, df_image, df_text\n",
    "del df_article"
   ]
  },
  {
   "cell_type": "code",
   "execution_count": 19,
   "id": "e8b46d33",
   "metadata": {
    "execution": {
     "iopub.execute_input": "2022-02-26T05:51:19.351001Z",
     "iopub.status.busy": "2022-02-26T05:51:19.350296Z",
     "iopub.status.idle": "2022-02-26T05:51:20.164493Z",
     "shell.execute_reply": "2022-02-26T05:51:20.163868Z",
     "shell.execute_reply.started": "2022-02-26T05:46:42.502951Z"
    },
    "papermill": {
     "duration": 0.894615,
     "end_time": "2022-02-26T05:51:20.164651",
     "exception": false,
     "start_time": "2022-02-26T05:51:19.270036",
     "status": "completed"
    },
    "tags": []
   },
   "outputs": [
    {
     "name": "stdout",
     "output_type": "stream",
     "text": [
      "Memory usage of dataframe is 37.54 MB\n",
      "Memory usage after optimization is: 72.77 MB\n",
      "Decreased by -93.8%\n"
     ]
    }
   ],
   "source": [
    "df_article_feat = reduce_mem_usage(df_article_feat)"
   ]
  },
  {
   "cell_type": "markdown",
   "id": "58e4de91",
   "metadata": {
    "papermill": {
     "duration": 0.058388,
     "end_time": "2022-02-26T05:51:20.281859",
     "exception": false,
     "start_time": "2022-02-26T05:51:20.223471",
     "status": "completed"
    },
    "tags": []
   },
   "source": [
    "## prepare customer feat"
   ]
  },
  {
   "cell_type": "code",
   "execution_count": 20,
   "id": "dcbd7674",
   "metadata": {
    "execution": {
     "iopub.execute_input": "2022-02-26T05:51:20.405569Z",
     "iopub.status.busy": "2022-02-26T05:51:20.404727Z",
     "iopub.status.idle": "2022-02-26T05:51:26.018455Z",
     "shell.execute_reply": "2022-02-26T05:51:26.017776Z",
     "shell.execute_reply.started": "2022-02-26T05:46:43.392682Z"
    },
    "papermill": {
     "duration": 5.677577,
     "end_time": "2022-02-26T05:51:26.018645",
     "exception": false,
     "start_time": "2022-02-26T05:51:20.341068",
     "status": "completed"
    },
    "tags": []
   },
   "outputs": [],
   "source": [
    "df_customer = pd.read_csv(Config.customer_path)"
   ]
  },
  {
   "attachments": {},
   "cell_type": "markdown",
   "id": "0e6c6edc",
   "metadata": {},
   "source": [
    "create features"
   ]
  },
  {
   "cell_type": "code",
   "execution_count": 21,
   "id": "b5aefaa3",
   "metadata": {},
   "outputs": [
    {
     "data": {
      "text/plain": [
       "352899"
      ]
     },
     "execution_count": 21,
     "metadata": {},
     "output_type": "execute_result"
    }
   ],
   "source": [
    "len(df_customer['postal_code'].unique())"
   ]
  },
  {
   "cell_type": "code",
   "execution_count": 22,
   "id": "086d5755",
   "metadata": {},
   "outputs": [],
   "source": [
    "# 计算每个邮编的顾客数量\n",
    "zipcode_counts = df_customer['postal_code'].value_counts()\n",
    "\n",
    "# 将顾客数量分成两群\n",
    "threshold = zipcode_counts.max()-1\n",
    "group_labels = [0, 1]\n",
    "groups = pd.cut(zipcode_counts, bins=[0, threshold, zipcode_counts.max()], labels=group_labels)\n",
    "\n",
    "# 将邮编编码为 0 或 1\n",
    "zipcode_encoding = dict(zip(zipcode_counts.index, groups.cat.codes))\n",
    "\n",
    "# 将编码应用到原始数据中\n",
    "df_customer['zipcode_encoding'] = df_customer['postal_code'].map(zipcode_encoding)"
   ]
  },
  {
   "cell_type": "code",
   "execution_count": 23,
   "id": "974259c3",
   "metadata": {},
   "outputs": [
    {
     "data": {
      "text/plain": [
       "0    1251677\n",
       "1     120303\n",
       "Name: zipcode_encoding, dtype: int64"
      ]
     },
     "execution_count": 23,
     "metadata": {},
     "output_type": "execute_result"
    }
   ],
   "source": [
    "df_customer['zipcode_encoding'].value_counts()"
   ]
  },
  {
   "cell_type": "code",
   "execution_count": null,
   "id": "5458e04e",
   "metadata": {},
   "outputs": [],
   "source": [
    "# 根據顧客過去7天消費的"
   ]
  },
  {
   "cell_type": "code",
   "execution_count": 24,
   "id": "58f6bf03",
   "metadata": {
    "execution": {
     "iopub.execute_input": "2022-02-26T05:51:26.147810Z",
     "iopub.status.busy": "2022-02-26T05:51:26.147093Z",
     "iopub.status.idle": "2022-02-26T05:51:26.150628Z",
     "shell.execute_reply": "2022-02-26T05:51:26.149953Z",
     "shell.execute_reply.started": "2022-02-26T05:46:48.497643Z"
    },
    "papermill": {
     "duration": 0.071516,
     "end_time": "2022-02-26T05:51:26.150768",
     "exception": false,
     "start_time": "2022-02-26T05:51:26.079252",
     "status": "completed"
    },
    "tags": []
   },
   "outputs": [],
   "source": [
    "def create_customer_feat(df):\n",
    "    \n",
    "    customer_drop_cols = [\"postal_code\"]\n",
    "    customer_dummy_cols = [\"club_member_status\", \"fashion_news_frequency\"]\n",
    "    \n",
    "    \n",
    "    df = df.drop(customer_drop_cols, axis=1)\n",
    "    df.loc[:, \"FN\"] = df[\"FN\"].fillna(0)\n",
    "    df.loc[:, \"Active\"] = df[\"Active\"].fillna(0)\n",
    "    df.loc[:, \"club_member_status\"] = df[\"club_member_status\"].fillna(\"NONE\")\n",
    "    df.loc[:, \"fashion_news_frequency\"] = df[\"fashion_news_frequency\"].fillna(\"NONE\")\n",
    "    df.loc[:, \"age\"] = df[\"age\"].fillna(0)\n",
    "    df.loc[:, \"age\"] = np.log1p(df[\"age\"])\n",
    "\n",
    "    df = pd.get_dummies(df, columns=customer_dummy_cols)\n",
    "    \n",
    "    return df"
   ]
  },
  {
   "cell_type": "code",
   "execution_count": 25,
   "id": "d122490c",
   "metadata": {
    "execution": {
     "iopub.execute_input": "2022-02-26T05:51:26.276239Z",
     "iopub.status.busy": "2022-02-26T05:51:26.275552Z",
     "iopub.status.idle": "2022-02-26T05:51:27.266604Z",
     "shell.execute_reply": "2022-02-26T05:51:27.266007Z",
     "shell.execute_reply.started": "2022-02-26T05:46:48.506439Z"
    },
    "papermill": {
     "duration": 1.056521,
     "end_time": "2022-02-26T05:51:27.266765",
     "exception": false,
     "start_time": "2022-02-26T05:51:26.210244",
     "status": "completed"
    },
    "tags": []
   },
   "outputs": [],
   "source": [
    "df_customer_feat = create_customer_feat(df_customer)"
   ]
  },
  {
   "cell_type": "code",
   "execution_count": 26,
   "id": "cb62e016",
   "metadata": {
    "execution": {
     "iopub.execute_input": "2022-02-26T05:51:27.504370Z",
     "iopub.status.busy": "2022-02-26T05:51:27.461615Z",
     "iopub.status.idle": "2022-02-26T05:51:30.276261Z",
     "shell.execute_reply": "2022-02-26T05:51:30.276752Z",
     "shell.execute_reply.started": "2022-02-26T05:46:49.288596Z"
    },
    "papermill": {
     "duration": 2.951897,
     "end_time": "2022-02-26T05:51:30.276934",
     "exception": false,
     "start_time": "2022-02-26T05:51:27.325037",
     "status": "completed"
    },
    "tags": []
   },
   "outputs": [
    {
     "name": "stdout",
     "output_type": "stream",
     "text": [
      "Memory usage of dataframe is 62.80 MB\n",
      "Memory usage after optimization is: 78.04 MB\n",
      "Decreased by -24.3%\n"
     ]
    }
   ],
   "source": [
    "del df_customer\n",
    "df_customer_feat = reduce_mem_usage(df_customer_feat)"
   ]
  },
  {
   "cell_type": "code",
   "execution_count": 27,
   "id": "b75c1353",
   "metadata": {
    "papermill": {
     "duration": 0.058882,
     "end_time": "2022-02-26T05:51:30.394407",
     "exception": false,
     "start_time": "2022-02-26T05:51:30.335525",
     "status": "completed"
    },
    "tags": []
   },
   "outputs": [
    {
     "data": {
      "text/html": [
       "<div>\n",
       "<style scoped>\n",
       "    .dataframe tbody tr th:only-of-type {\n",
       "        vertical-align: middle;\n",
       "    }\n",
       "\n",
       "    .dataframe tbody tr th {\n",
       "        vertical-align: top;\n",
       "    }\n",
       "\n",
       "    .dataframe thead th {\n",
       "        text-align: right;\n",
       "    }\n",
       "</style>\n",
       "<table border=\"1\" class=\"dataframe\">\n",
       "  <thead>\n",
       "    <tr style=\"text-align: right;\">\n",
       "      <th></th>\n",
       "      <th>customer_id</th>\n",
       "      <th>FN</th>\n",
       "      <th>Active</th>\n",
       "      <th>age</th>\n",
       "      <th>zipcode_encoding</th>\n",
       "      <th>club_member_status_ACTIVE</th>\n",
       "      <th>club_member_status_LEFT CLUB</th>\n",
       "      <th>club_member_status_NONE</th>\n",
       "      <th>club_member_status_PRE-CREATE</th>\n",
       "      <th>fashion_news_frequency_Monthly</th>\n",
       "      <th>fashion_news_frequency_NONE</th>\n",
       "      <th>fashion_news_frequency_None</th>\n",
       "      <th>fashion_news_frequency_Regularly</th>\n",
       "    </tr>\n",
       "  </thead>\n",
       "  <tbody>\n",
       "    <tr>\n",
       "      <th>0</th>\n",
       "      <td>00000dbacae5abe5e23885899a1fa44253a17956c6d1c3...</td>\n",
       "      <td>0.0</td>\n",
       "      <td>0.0</td>\n",
       "      <td>3.912109</td>\n",
       "      <td>0</td>\n",
       "      <td>1.0</td>\n",
       "      <td>0.0</td>\n",
       "      <td>0.0</td>\n",
       "      <td>0.0</td>\n",
       "      <td>0.0</td>\n",
       "      <td>1.0</td>\n",
       "      <td>0.0</td>\n",
       "      <td>0.0</td>\n",
       "    </tr>\n",
       "    <tr>\n",
       "      <th>1</th>\n",
       "      <td>0000423b00ade91418cceaf3b26c6af3dd342b51fd051e...</td>\n",
       "      <td>0.0</td>\n",
       "      <td>0.0</td>\n",
       "      <td>3.257812</td>\n",
       "      <td>0</td>\n",
       "      <td>1.0</td>\n",
       "      <td>0.0</td>\n",
       "      <td>0.0</td>\n",
       "      <td>0.0</td>\n",
       "      <td>0.0</td>\n",
       "      <td>1.0</td>\n",
       "      <td>0.0</td>\n",
       "      <td>0.0</td>\n",
       "    </tr>\n",
       "    <tr>\n",
       "      <th>2</th>\n",
       "      <td>000058a12d5b43e67d225668fa1f8d618c13dc232df0ca...</td>\n",
       "      <td>0.0</td>\n",
       "      <td>0.0</td>\n",
       "      <td>3.218750</td>\n",
       "      <td>0</td>\n",
       "      <td>1.0</td>\n",
       "      <td>0.0</td>\n",
       "      <td>0.0</td>\n",
       "      <td>0.0</td>\n",
       "      <td>0.0</td>\n",
       "      <td>1.0</td>\n",
       "      <td>0.0</td>\n",
       "      <td>0.0</td>\n",
       "    </tr>\n",
       "    <tr>\n",
       "      <th>3</th>\n",
       "      <td>00005ca1c9ed5f5146b52ac8639a40ca9d57aeff4d1bd2...</td>\n",
       "      <td>0.0</td>\n",
       "      <td>0.0</td>\n",
       "      <td>4.007812</td>\n",
       "      <td>0</td>\n",
       "      <td>1.0</td>\n",
       "      <td>0.0</td>\n",
       "      <td>0.0</td>\n",
       "      <td>0.0</td>\n",
       "      <td>0.0</td>\n",
       "      <td>1.0</td>\n",
       "      <td>0.0</td>\n",
       "      <td>0.0</td>\n",
       "    </tr>\n",
       "    <tr>\n",
       "      <th>4</th>\n",
       "      <td>00006413d8573cd20ed7128e53b7b13819fe5cfc2d801f...</td>\n",
       "      <td>1.0</td>\n",
       "      <td>1.0</td>\n",
       "      <td>3.970703</td>\n",
       "      <td>0</td>\n",
       "      <td>1.0</td>\n",
       "      <td>0.0</td>\n",
       "      <td>0.0</td>\n",
       "      <td>0.0</td>\n",
       "      <td>0.0</td>\n",
       "      <td>0.0</td>\n",
       "      <td>0.0</td>\n",
       "      <td>1.0</td>\n",
       "    </tr>\n",
       "    <tr>\n",
       "      <th>...</th>\n",
       "      <td>...</td>\n",
       "      <td>...</td>\n",
       "      <td>...</td>\n",
       "      <td>...</td>\n",
       "      <td>...</td>\n",
       "      <td>...</td>\n",
       "      <td>...</td>\n",
       "      <td>...</td>\n",
       "      <td>...</td>\n",
       "      <td>...</td>\n",
       "      <td>...</td>\n",
       "      <td>...</td>\n",
       "      <td>...</td>\n",
       "    </tr>\n",
       "    <tr>\n",
       "      <th>1371975</th>\n",
       "      <td>ffffbbf78b6eaac697a8a5dfbfd2bfa8113ee5b403e474...</td>\n",
       "      <td>0.0</td>\n",
       "      <td>0.0</td>\n",
       "      <td>3.218750</td>\n",
       "      <td>0</td>\n",
       "      <td>1.0</td>\n",
       "      <td>0.0</td>\n",
       "      <td>0.0</td>\n",
       "      <td>0.0</td>\n",
       "      <td>0.0</td>\n",
       "      <td>1.0</td>\n",
       "      <td>0.0</td>\n",
       "      <td>0.0</td>\n",
       "    </tr>\n",
       "    <tr>\n",
       "      <th>1371976</th>\n",
       "      <td>ffffcd5046a6143d29a04fb8c424ce494a76e5cdf4fab5...</td>\n",
       "      <td>0.0</td>\n",
       "      <td>0.0</td>\n",
       "      <td>3.091797</td>\n",
       "      <td>0</td>\n",
       "      <td>1.0</td>\n",
       "      <td>0.0</td>\n",
       "      <td>0.0</td>\n",
       "      <td>0.0</td>\n",
       "      <td>0.0</td>\n",
       "      <td>1.0</td>\n",
       "      <td>0.0</td>\n",
       "      <td>0.0</td>\n",
       "    </tr>\n",
       "    <tr>\n",
       "      <th>1371977</th>\n",
       "      <td>ffffcf35913a0bee60e8741cb2b4e78b8a98ee5ff2e6a1...</td>\n",
       "      <td>1.0</td>\n",
       "      <td>1.0</td>\n",
       "      <td>3.091797</td>\n",
       "      <td>0</td>\n",
       "      <td>1.0</td>\n",
       "      <td>0.0</td>\n",
       "      <td>0.0</td>\n",
       "      <td>0.0</td>\n",
       "      <td>0.0</td>\n",
       "      <td>0.0</td>\n",
       "      <td>0.0</td>\n",
       "      <td>1.0</td>\n",
       "    </tr>\n",
       "    <tr>\n",
       "      <th>1371978</th>\n",
       "      <td>ffffd7744cebcf3aca44ae7049d2a94b87074c3d4ffe38...</td>\n",
       "      <td>1.0</td>\n",
       "      <td>1.0</td>\n",
       "      <td>2.945312</td>\n",
       "      <td>0</td>\n",
       "      <td>1.0</td>\n",
       "      <td>0.0</td>\n",
       "      <td>0.0</td>\n",
       "      <td>0.0</td>\n",
       "      <td>0.0</td>\n",
       "      <td>0.0</td>\n",
       "      <td>0.0</td>\n",
       "      <td>1.0</td>\n",
       "    </tr>\n",
       "    <tr>\n",
       "      <th>1371979</th>\n",
       "      <td>ffffd9ac14e89946416d80e791d064701994755c3ab686...</td>\n",
       "      <td>0.0</td>\n",
       "      <td>0.0</td>\n",
       "      <td>4.191406</td>\n",
       "      <td>0</td>\n",
       "      <td>0.0</td>\n",
       "      <td>0.0</td>\n",
       "      <td>0.0</td>\n",
       "      <td>1.0</td>\n",
       "      <td>0.0</td>\n",
       "      <td>1.0</td>\n",
       "      <td>0.0</td>\n",
       "      <td>0.0</td>\n",
       "    </tr>\n",
       "  </tbody>\n",
       "</table>\n",
       "<p>1371980 rows × 13 columns</p>\n",
       "</div>"
      ],
      "text/plain": [
       "                                               customer_id   FN  Active  \\\n",
       "0        00000dbacae5abe5e23885899a1fa44253a17956c6d1c3...  0.0     0.0   \n",
       "1        0000423b00ade91418cceaf3b26c6af3dd342b51fd051e...  0.0     0.0   \n",
       "2        000058a12d5b43e67d225668fa1f8d618c13dc232df0ca...  0.0     0.0   \n",
       "3        00005ca1c9ed5f5146b52ac8639a40ca9d57aeff4d1bd2...  0.0     0.0   \n",
       "4        00006413d8573cd20ed7128e53b7b13819fe5cfc2d801f...  1.0     1.0   \n",
       "...                                                    ...  ...     ...   \n",
       "1371975  ffffbbf78b6eaac697a8a5dfbfd2bfa8113ee5b403e474...  0.0     0.0   \n",
       "1371976  ffffcd5046a6143d29a04fb8c424ce494a76e5cdf4fab5...  0.0     0.0   \n",
       "1371977  ffffcf35913a0bee60e8741cb2b4e78b8a98ee5ff2e6a1...  1.0     1.0   \n",
       "1371978  ffffd7744cebcf3aca44ae7049d2a94b87074c3d4ffe38...  1.0     1.0   \n",
       "1371979  ffffd9ac14e89946416d80e791d064701994755c3ab686...  0.0     0.0   \n",
       "\n",
       "              age  zipcode_encoding  club_member_status_ACTIVE  \\\n",
       "0        3.912109                 0                        1.0   \n",
       "1        3.257812                 0                        1.0   \n",
       "2        3.218750                 0                        1.0   \n",
       "3        4.007812                 0                        1.0   \n",
       "4        3.970703                 0                        1.0   \n",
       "...           ...               ...                        ...   \n",
       "1371975  3.218750                 0                        1.0   \n",
       "1371976  3.091797                 0                        1.0   \n",
       "1371977  3.091797                 0                        1.0   \n",
       "1371978  2.945312                 0                        1.0   \n",
       "1371979  4.191406                 0                        0.0   \n",
       "\n",
       "         club_member_status_LEFT CLUB  club_member_status_NONE  \\\n",
       "0                                 0.0                      0.0   \n",
       "1                                 0.0                      0.0   \n",
       "2                                 0.0                      0.0   \n",
       "3                                 0.0                      0.0   \n",
       "4                                 0.0                      0.0   \n",
       "...                               ...                      ...   \n",
       "1371975                           0.0                      0.0   \n",
       "1371976                           0.0                      0.0   \n",
       "1371977                           0.0                      0.0   \n",
       "1371978                           0.0                      0.0   \n",
       "1371979                           0.0                      0.0   \n",
       "\n",
       "         club_member_status_PRE-CREATE  fashion_news_frequency_Monthly  \\\n",
       "0                                  0.0                             0.0   \n",
       "1                                  0.0                             0.0   \n",
       "2                                  0.0                             0.0   \n",
       "3                                  0.0                             0.0   \n",
       "4                                  0.0                             0.0   \n",
       "...                                ...                             ...   \n",
       "1371975                            0.0                             0.0   \n",
       "1371976                            0.0                             0.0   \n",
       "1371977                            0.0                             0.0   \n",
       "1371978                            0.0                             0.0   \n",
       "1371979                            1.0                             0.0   \n",
       "\n",
       "         fashion_news_frequency_NONE  fashion_news_frequency_None  \\\n",
       "0                                1.0                          0.0   \n",
       "1                                1.0                          0.0   \n",
       "2                                1.0                          0.0   \n",
       "3                                1.0                          0.0   \n",
       "4                                0.0                          0.0   \n",
       "...                              ...                          ...   \n",
       "1371975                          1.0                          0.0   \n",
       "1371976                          1.0                          0.0   \n",
       "1371977                          0.0                          0.0   \n",
       "1371978                          0.0                          0.0   \n",
       "1371979                          1.0                          0.0   \n",
       "\n",
       "         fashion_news_frequency_Regularly  \n",
       "0                                     0.0  \n",
       "1                                     0.0  \n",
       "2                                     0.0  \n",
       "3                                     0.0  \n",
       "4                                     1.0  \n",
       "...                                   ...  \n",
       "1371975                               0.0  \n",
       "1371976                               0.0  \n",
       "1371977                               1.0  \n",
       "1371978                               1.0  \n",
       "1371979                               0.0  \n",
       "\n",
       "[1371980 rows x 13 columns]"
      ]
     },
     "execution_count": 27,
     "metadata": {},
     "output_type": "execute_result"
    }
   ],
   "source": [
    "df_customer_feat"
   ]
  },
  {
   "cell_type": "markdown",
   "id": "72b2aa00",
   "metadata": {
    "papermill": {
     "duration": 0.058898,
     "end_time": "2022-02-26T05:51:30.512400",
     "exception": false,
     "start_time": "2022-02-26T05:51:30.453502",
     "status": "completed"
    },
    "tags": []
   },
   "source": [
    "## Merge all feats and construct dataset"
   ]
  },
  {
   "cell_type": "code",
   "execution_count": 28,
   "id": "7ffa0729",
   "metadata": {
    "execution": {
     "iopub.execute_input": "2022-02-26T05:51:30.758486Z",
     "iopub.status.busy": "2022-02-26T05:51:30.757451Z",
     "iopub.status.idle": "2022-02-26T05:51:30.762422Z",
     "shell.execute_reply": "2022-02-26T05:51:30.761849Z",
     "shell.execute_reply.started": "2022-02-26T05:46:51.329234Z"
    },
    "papermill": {
     "duration": 0.190877,
     "end_time": "2022-02-26T05:51:30.762567",
     "exception": false,
     "start_time": "2022-02-26T05:51:30.571690",
     "status": "completed"
    },
    "tags": []
   },
   "outputs": [
    {
     "data": {
      "text/plain": [
       "0"
      ]
     },
     "execution_count": 28,
     "metadata": {},
     "output_type": "execute_result"
    }
   ],
   "source": [
    "gc.collect()"
   ]
  },
  {
   "cell_type": "code",
   "execution_count": 29,
   "id": "a459188b",
   "metadata": {
    "execution": {
     "iopub.execute_input": "2022-02-26T05:51:30.891544Z",
     "iopub.status.busy": "2022-02-26T05:51:30.890822Z",
     "iopub.status.idle": "2022-02-26T05:51:31.000363Z",
     "shell.execute_reply": "2022-02-26T05:51:31.000841Z",
     "shell.execute_reply.started": "2022-02-26T05:46:51.464669Z"
    },
    "papermill": {
     "duration": 0.175646,
     "end_time": "2022-02-26T05:51:31.001029",
     "exception": false,
     "start_time": "2022-02-26T05:51:30.825383",
     "status": "completed"
    },
    "tags": []
   },
   "outputs": [],
   "source": [
    " # https://github.com/awslabs/autogluon/issues/399\n",
    "df_article_feat = df_article_feat.rename(columns = lambda x:re.sub('[^A-Za-z0-9_]+', '', x))\n",
    "df_customer_feat = df_customer_feat.rename(columns = lambda x:re.sub('[^A-Za-z0-9_]+', '', x))"
   ]
  },
  {
   "cell_type": "code",
   "execution_count": 30,
   "id": "b2af6833",
   "metadata": {
    "execution": {
     "iopub.execute_input": "2022-02-26T05:51:31.126541Z",
     "iopub.status.busy": "2022-02-26T05:51:31.125821Z",
     "iopub.status.idle": "2022-02-26T05:51:31.129837Z",
     "shell.execute_reply": "2022-02-26T05:51:31.130539Z",
     "shell.execute_reply.started": "2022-02-26T05:46:51.581392Z"
    },
    "papermill": {
     "duration": 0.069117,
     "end_time": "2022-02-26T05:51:31.130723",
     "exception": false,
     "start_time": "2022-02-26T05:51:31.061606",
     "status": "completed"
    },
    "tags": []
   },
   "outputs": [],
   "source": [
    "# def create_dataset(df_truth, df_article_feat, df_customer_feat):\n",
    "\n",
    "#     df_data = df_truth.merge(df_article_feat, on=\"article_id\", how='left')\n",
    "#     df_data = df_data.merge(df_customer_feat, on = \"customer_id\", how='left')    \n",
    "#     df_data = df_data.drop([\"customer_id\", \"article_id\"], axis=1)    \n",
    "#     df_data = df_data.fillna(0)\n",
    "\n",
    "#     # https://github.com/awslabs/autogluon/issues/399\n",
    "#     df_data = df_data.rename(columns = lambda x:re.sub('[^A-Za-z0-9_]+', '', x))\n",
    "\n",
    "#     return df_data"
   ]
  },
  {
   "cell_type": "code",
   "execution_count": 31,
   "id": "e00a2e91",
   "metadata": {
    "execution": {
     "iopub.execute_input": "2022-02-26T05:51:31.259239Z",
     "iopub.status.busy": "2022-02-26T05:51:31.258519Z",
     "iopub.status.idle": "2022-02-26T05:51:31.302163Z",
     "shell.execute_reply": "2022-02-26T05:51:31.301545Z",
     "shell.execute_reply.started": "2022-02-26T05:46:51.588614Z"
    },
    "papermill": {
     "duration": 0.110757,
     "end_time": "2022-02-26T05:51:31.302362",
     "exception": false,
     "start_time": "2022-02-26T05:51:31.191605",
     "status": "completed"
    },
    "tags": []
   },
   "outputs": [],
   "source": [
    "# https://www.kaggle.com/tkm2261/fast-pandas-left-join-357x-faster-than-pd-merge\n",
    "\n",
    "df_article_feat = df_article_feat.set_index(\"article_id\")\n",
    "df_customer_feat = df_customer_feat.set_index(\"customer_id\")\n",
    "\n",
    "def create_dataset_faster(df_truth, df_article_feat, df_customer_feat): \n",
    "\n",
    "    df_data = pd.concat([\n",
    "        df_truth.reset_index(drop=True), \n",
    "        df_article_feat.reindex(df_truth['article_id'].values).reset_index(drop=True)\n",
    "    ], axis=1)\n",
    "    df_data = pd.concat([\n",
    "        df_data.reset_index(drop=True), \n",
    "        df_customer_feat.reindex(df_data['customer_id'].values).reset_index(drop=True)\n",
    "    ], axis=1)  \n",
    "    \n",
    "    df_data = df_data.drop([\"customer_id\", \"article_id\"], axis=1)    \n",
    "    df_data = df_data.fillna(0)\n",
    "\n",
    "\n",
    "    return df_data"
   ]
  },
  {
   "cell_type": "code",
   "execution_count": 32,
   "id": "50a2b4dd",
   "metadata": {
    "execution": {
     "iopub.execute_input": "2022-02-26T05:51:31.428053Z",
     "iopub.status.busy": "2022-02-26T05:51:31.426857Z",
     "iopub.status.idle": "2022-02-26T05:51:40.429685Z",
     "shell.execute_reply": "2022-02-26T05:51:40.430250Z",
     "shell.execute_reply.started": "2022-02-26T05:46:51.645558Z"
    },
    "papermill": {
     "duration": 9.068189,
     "end_time": "2022-02-26T05:51:40.430430",
     "exception": false,
     "start_time": "2022-02-26T05:51:31.362241",
     "status": "completed"
    },
    "tags": []
   },
   "outputs": [],
   "source": [
    "df_data = create_dataset_faster(df_truth, df_article_feat, df_customer_feat)"
   ]
  },
  {
   "cell_type": "code",
   "execution_count": 33,
   "id": "64155e43",
   "metadata": {
    "execution": {
     "iopub.execute_input": "2022-02-26T05:51:40.554663Z",
     "iopub.status.busy": "2022-02-26T05:51:40.553453Z",
     "iopub.status.idle": "2022-02-26T05:51:41.219227Z",
     "shell.execute_reply": "2022-02-26T05:51:41.219767Z",
     "shell.execute_reply.started": "2022-02-26T05:46:59.065469Z"
    },
    "papermill": {
     "duration": 0.729939,
     "end_time": "2022-02-26T05:51:41.219937",
     "exception": false,
     "start_time": "2022-02-26T05:51:40.489998",
     "status": "completed"
    },
    "tags": []
   },
   "outputs": [],
   "source": [
    "df_data.to_pickle(f\"{Config.output_dir}/feature.pkl\")"
   ]
  },
  {
   "cell_type": "code",
   "execution_count": 34,
   "id": "0704d9d8",
   "metadata": {
    "execution": {
     "iopub.execute_input": "2022-02-26T05:51:41.342594Z",
     "iopub.status.busy": "2022-02-26T05:51:41.341936Z",
     "iopub.status.idle": "2022-02-26T05:51:41.348160Z",
     "shell.execute_reply": "2022-02-26T05:51:41.347663Z",
     "shell.execute_reply.started": "2022-02-26T05:46:59.761884Z"
    },
    "papermill": {
     "duration": 0.068371,
     "end_time": "2022-02-26T05:51:41.348299",
     "exception": false,
     "start_time": "2022-02-26T05:51:41.279928",
     "status": "completed"
    },
    "tags": []
   },
   "outputs": [
    {
     "data": {
      "text/plain": [
       "(373,)"
      ]
     },
     "execution_count": 34,
     "metadata": {},
     "output_type": "execute_result"
    }
   ],
   "source": [
    "df_data.columns.shape"
   ]
  },
  {
   "cell_type": "code",
   "execution_count": 35,
   "id": "1bf84855",
   "metadata": {
    "execution": {
     "iopub.execute_input": "2022-02-26T05:51:41.473919Z",
     "iopub.status.busy": "2022-02-26T05:51:41.473272Z",
     "iopub.status.idle": "2022-02-26T05:51:43.139587Z",
     "shell.execute_reply": "2022-02-26T05:51:43.139007Z",
     "shell.execute_reply.started": "2022-02-26T05:46:59.769980Z"
    },
    "papermill": {
     "duration": 1.731338,
     "end_time": "2022-02-26T05:51:43.139727",
     "exception": false,
     "start_time": "2022-02-26T05:51:41.408389",
     "status": "completed"
    },
    "tags": []
   },
   "outputs": [
    {
     "data": {
      "text/plain": [
       "((266364, 373), (266364, 373))"
      ]
     },
     "execution_count": 35,
     "metadata": {},
     "output_type": "execute_result"
    }
   ],
   "source": [
    "df_data[df_data[\"label\"] ==1].shape,  df_data[df_data[\"label\"] ==0].shape, "
   ]
  },
  {
   "cell_type": "code",
   "execution_count": 54,
   "id": "a50b61a9",
   "metadata": {},
   "outputs": [
    {
     "data": {
      "text/html": [
       "<div>\n",
       "<style scoped>\n",
       "    .dataframe tbody tr th:only-of-type {\n",
       "        vertical-align: middle;\n",
       "    }\n",
       "\n",
       "    .dataframe tbody tr th {\n",
       "        vertical-align: top;\n",
       "    }\n",
       "\n",
       "    .dataframe thead th {\n",
       "        text-align: right;\n",
       "    }\n",
       "</style>\n",
       "<table border=\"1\" class=\"dataframe\">\n",
       "  <thead>\n",
       "    <tr style=\"text-align: right;\">\n",
       "      <th></th>\n",
       "      <th>label</th>\n",
       "      <th>product_code</th>\n",
       "      <th>product_type_no</th>\n",
       "      <th>graphical_appearance_no</th>\n",
       "      <th>colour_group_code</th>\n",
       "      <th>perceived_colour_value_id</th>\n",
       "      <th>perceived_colour_master_id</th>\n",
       "      <th>department_no</th>\n",
       "      <th>index_group_no</th>\n",
       "      <th>section_no</th>\n",
       "      <th>...</th>\n",
       "      <th>age</th>\n",
       "      <th>zipcode_encoding</th>\n",
       "      <th>club_member_status_ACTIVE</th>\n",
       "      <th>club_member_status_LEFTCLUB</th>\n",
       "      <th>club_member_status_NONE</th>\n",
       "      <th>club_member_status_PRECREATE</th>\n",
       "      <th>fashion_news_frequency_Monthly</th>\n",
       "      <th>fashion_news_frequency_NONE</th>\n",
       "      <th>fashion_news_frequency_None</th>\n",
       "      <th>fashion_news_frequency_Regularly</th>\n",
       "    </tr>\n",
       "  </thead>\n",
       "  <tbody>\n",
       "    <tr>\n",
       "      <th>0</th>\n",
       "      <td>1</td>\n",
       "      <td>794321</td>\n",
       "      <td>262</td>\n",
       "      <td>1010016</td>\n",
       "      <td>15</td>\n",
       "      <td>4</td>\n",
       "      <td>20</td>\n",
       "      <td>8397</td>\n",
       "      <td>26</td>\n",
       "      <td>5</td>\n",
       "      <td>...</td>\n",
       "      <td>3.218750</td>\n",
       "      <td>0</td>\n",
       "      <td>1.0</td>\n",
       "      <td>0.0</td>\n",
       "      <td>0.0</td>\n",
       "      <td>0.0</td>\n",
       "      <td>0.0</td>\n",
       "      <td>1.0</td>\n",
       "      <td>0.0</td>\n",
       "      <td>0.0</td>\n",
       "    </tr>\n",
       "    <tr>\n",
       "      <th>1</th>\n",
       "      <td>1</td>\n",
       "      <td>875272</td>\n",
       "      <td>259</td>\n",
       "      <td>1010023</td>\n",
       "      <td>7</td>\n",
       "      <td>2</td>\n",
       "      <td>12</td>\n",
       "      <td>1773</td>\n",
       "      <td>2</td>\n",
       "      <td>57</td>\n",
       "      <td>...</td>\n",
       "      <td>3.931641</td>\n",
       "      <td>0</td>\n",
       "      <td>1.0</td>\n",
       "      <td>0.0</td>\n",
       "      <td>0.0</td>\n",
       "      <td>0.0</td>\n",
       "      <td>0.0</td>\n",
       "      <td>1.0</td>\n",
       "      <td>0.0</td>\n",
       "      <td>0.0</td>\n",
       "    </tr>\n",
       "    <tr>\n",
       "      <th>2</th>\n",
       "      <td>1</td>\n",
       "      <td>875272</td>\n",
       "      <td>259</td>\n",
       "      <td>1010023</td>\n",
       "      <td>73</td>\n",
       "      <td>2</td>\n",
       "      <td>2</td>\n",
       "      <td>1773</td>\n",
       "      <td>2</td>\n",
       "      <td>57</td>\n",
       "      <td>...</td>\n",
       "      <td>3.931641</td>\n",
       "      <td>0</td>\n",
       "      <td>1.0</td>\n",
       "      <td>0.0</td>\n",
       "      <td>0.0</td>\n",
       "      <td>0.0</td>\n",
       "      <td>0.0</td>\n",
       "      <td>1.0</td>\n",
       "      <td>0.0</td>\n",
       "      <td>0.0</td>\n",
       "    </tr>\n",
       "    <tr>\n",
       "      <th>3</th>\n",
       "      <td>1</td>\n",
       "      <td>800691</td>\n",
       "      <td>255</td>\n",
       "      <td>1010016</td>\n",
       "      <td>10</td>\n",
       "      <td>3</td>\n",
       "      <td>9</td>\n",
       "      <td>1676</td>\n",
       "      <td>1</td>\n",
       "      <td>16</td>\n",
       "      <td>...</td>\n",
       "      <td>3.400391</td>\n",
       "      <td>0</td>\n",
       "      <td>1.0</td>\n",
       "      <td>0.0</td>\n",
       "      <td>0.0</td>\n",
       "      <td>0.0</td>\n",
       "      <td>0.0</td>\n",
       "      <td>1.0</td>\n",
       "      <td>0.0</td>\n",
       "      <td>0.0</td>\n",
       "    </tr>\n",
       "    <tr>\n",
       "      <th>4</th>\n",
       "      <td>1</td>\n",
       "      <td>800691</td>\n",
       "      <td>255</td>\n",
       "      <td>1010016</td>\n",
       "      <td>10</td>\n",
       "      <td>3</td>\n",
       "      <td>9</td>\n",
       "      <td>1676</td>\n",
       "      <td>1</td>\n",
       "      <td>16</td>\n",
       "      <td>...</td>\n",
       "      <td>3.400391</td>\n",
       "      <td>0</td>\n",
       "      <td>1.0</td>\n",
       "      <td>0.0</td>\n",
       "      <td>0.0</td>\n",
       "      <td>0.0</td>\n",
       "      <td>0.0</td>\n",
       "      <td>1.0</td>\n",
       "      <td>0.0</td>\n",
       "      <td>0.0</td>\n",
       "    </tr>\n",
       "    <tr>\n",
       "      <th>...</th>\n",
       "      <td>...</td>\n",
       "      <td>...</td>\n",
       "      <td>...</td>\n",
       "      <td>...</td>\n",
       "      <td>...</td>\n",
       "      <td>...</td>\n",
       "      <td>...</td>\n",
       "      <td>...</td>\n",
       "      <td>...</td>\n",
       "      <td>...</td>\n",
       "      <td>...</td>\n",
       "      <td>...</td>\n",
       "      <td>...</td>\n",
       "      <td>...</td>\n",
       "      <td>...</td>\n",
       "      <td>...</td>\n",
       "      <td>...</td>\n",
       "      <td>...</td>\n",
       "      <td>...</td>\n",
       "      <td>...</td>\n",
       "      <td>...</td>\n",
       "    </tr>\n",
       "    <tr>\n",
       "      <th>532723</th>\n",
       "      <td>0</td>\n",
       "      <td>556539</td>\n",
       "      <td>512</td>\n",
       "      <td>1010016</td>\n",
       "      <td>9</td>\n",
       "      <td>4</td>\n",
       "      <td>5</td>\n",
       "      <td>4343</td>\n",
       "      <td>1</td>\n",
       "      <td>66</td>\n",
       "      <td>...</td>\n",
       "      <td>3.496094</td>\n",
       "      <td>0</td>\n",
       "      <td>1.0</td>\n",
       "      <td>0.0</td>\n",
       "      <td>0.0</td>\n",
       "      <td>0.0</td>\n",
       "      <td>0.0</td>\n",
       "      <td>0.0</td>\n",
       "      <td>0.0</td>\n",
       "      <td>1.0</td>\n",
       "    </tr>\n",
       "    <tr>\n",
       "      <th>532724</th>\n",
       "      <td>0</td>\n",
       "      <td>793025</td>\n",
       "      <td>259</td>\n",
       "      <td>1010016</td>\n",
       "      <td>17</td>\n",
       "      <td>4</td>\n",
       "      <td>13</td>\n",
       "      <td>1515</td>\n",
       "      <td>1</td>\n",
       "      <td>11</td>\n",
       "      <td>...</td>\n",
       "      <td>3.496094</td>\n",
       "      <td>0</td>\n",
       "      <td>1.0</td>\n",
       "      <td>0.0</td>\n",
       "      <td>0.0</td>\n",
       "      <td>0.0</td>\n",
       "      <td>0.0</td>\n",
       "      <td>0.0</td>\n",
       "      <td>0.0</td>\n",
       "      <td>1.0</td>\n",
       "    </tr>\n",
       "    <tr>\n",
       "      <th>532725</th>\n",
       "      <td>0</td>\n",
       "      <td>900422</td>\n",
       "      <td>272</td>\n",
       "      <td>1010016</td>\n",
       "      <td>9</td>\n",
       "      <td>4</td>\n",
       "      <td>5</td>\n",
       "      <td>1949</td>\n",
       "      <td>1</td>\n",
       "      <td>2</td>\n",
       "      <td>...</td>\n",
       "      <td>4.218750</td>\n",
       "      <td>0</td>\n",
       "      <td>1.0</td>\n",
       "      <td>0.0</td>\n",
       "      <td>0.0</td>\n",
       "      <td>0.0</td>\n",
       "      <td>0.0</td>\n",
       "      <td>1.0</td>\n",
       "      <td>0.0</td>\n",
       "      <td>0.0</td>\n",
       "    </tr>\n",
       "    <tr>\n",
       "      <th>532726</th>\n",
       "      <td>0</td>\n",
       "      <td>748566</td>\n",
       "      <td>273</td>\n",
       "      <td>1010001</td>\n",
       "      <td>13</td>\n",
       "      <td>2</td>\n",
       "      <td>11</td>\n",
       "      <td>8310</td>\n",
       "      <td>26</td>\n",
       "      <td>5</td>\n",
       "      <td>...</td>\n",
       "      <td>3.091797</td>\n",
       "      <td>0</td>\n",
       "      <td>1.0</td>\n",
       "      <td>0.0</td>\n",
       "      <td>0.0</td>\n",
       "      <td>0.0</td>\n",
       "      <td>0.0</td>\n",
       "      <td>0.0</td>\n",
       "      <td>0.0</td>\n",
       "      <td>1.0</td>\n",
       "    </tr>\n",
       "    <tr>\n",
       "      <th>532727</th>\n",
       "      <td>0</td>\n",
       "      <td>724905</td>\n",
       "      <td>272</td>\n",
       "      <td>1010023</td>\n",
       "      <td>72</td>\n",
       "      <td>2</td>\n",
       "      <td>2</td>\n",
       "      <td>1772</td>\n",
       "      <td>2</td>\n",
       "      <td>57</td>\n",
       "      <td>...</td>\n",
       "      <td>3.400391</td>\n",
       "      <td>0</td>\n",
       "      <td>1.0</td>\n",
       "      <td>0.0</td>\n",
       "      <td>0.0</td>\n",
       "      <td>0.0</td>\n",
       "      <td>0.0</td>\n",
       "      <td>0.0</td>\n",
       "      <td>0.0</td>\n",
       "      <td>1.0</td>\n",
       "    </tr>\n",
       "  </tbody>\n",
       "</table>\n",
       "<p>532728 rows × 373 columns</p>\n",
       "</div>"
      ],
      "text/plain": [
       "        label  product_code  product_type_no  graphical_appearance_no  \\\n",
       "0           1        794321              262                  1010016   \n",
       "1           1        875272              259                  1010023   \n",
       "2           1        875272              259                  1010023   \n",
       "3           1        800691              255                  1010016   \n",
       "4           1        800691              255                  1010016   \n",
       "...       ...           ...              ...                      ...   \n",
       "532723      0        556539              512                  1010016   \n",
       "532724      0        793025              259                  1010016   \n",
       "532725      0        900422              272                  1010016   \n",
       "532726      0        748566              273                  1010001   \n",
       "532727      0        724905              272                  1010023   \n",
       "\n",
       "        colour_group_code  perceived_colour_value_id  \\\n",
       "0                      15                          4   \n",
       "1                       7                          2   \n",
       "2                      73                          2   \n",
       "3                      10                          3   \n",
       "4                      10                          3   \n",
       "...                   ...                        ...   \n",
       "532723                  9                          4   \n",
       "532724                 17                          4   \n",
       "532725                  9                          4   \n",
       "532726                 13                          2   \n",
       "532727                 72                          2   \n",
       "\n",
       "        perceived_colour_master_id  department_no  index_group_no  section_no  \\\n",
       "0                               20           8397              26           5   \n",
       "1                               12           1773               2          57   \n",
       "2                                2           1773               2          57   \n",
       "3                                9           1676               1          16   \n",
       "4                                9           1676               1          16   \n",
       "...                            ...            ...             ...         ...   \n",
       "532723                           5           4343               1          66   \n",
       "532724                          13           1515               1          11   \n",
       "532725                           5           1949               1           2   \n",
       "532726                          11           8310              26           5   \n",
       "532727                           2           1772               2          57   \n",
       "\n",
       "        ...       age  zipcode_encoding  club_member_status_ACTIVE  \\\n",
       "0       ...  3.218750                 0                        1.0   \n",
       "1       ...  3.931641                 0                        1.0   \n",
       "2       ...  3.931641                 0                        1.0   \n",
       "3       ...  3.400391                 0                        1.0   \n",
       "4       ...  3.400391                 0                        1.0   \n",
       "...     ...       ...               ...                        ...   \n",
       "532723  ...  3.496094                 0                        1.0   \n",
       "532724  ...  3.496094                 0                        1.0   \n",
       "532725  ...  4.218750                 0                        1.0   \n",
       "532726  ...  3.091797                 0                        1.0   \n",
       "532727  ...  3.400391                 0                        1.0   \n",
       "\n",
       "        club_member_status_LEFTCLUB  club_member_status_NONE  \\\n",
       "0                               0.0                      0.0   \n",
       "1                               0.0                      0.0   \n",
       "2                               0.0                      0.0   \n",
       "3                               0.0                      0.0   \n",
       "4                               0.0                      0.0   \n",
       "...                             ...                      ...   \n",
       "532723                          0.0                      0.0   \n",
       "532724                          0.0                      0.0   \n",
       "532725                          0.0                      0.0   \n",
       "532726                          0.0                      0.0   \n",
       "532727                          0.0                      0.0   \n",
       "\n",
       "        club_member_status_PRECREATE  fashion_news_frequency_Monthly  \\\n",
       "0                                0.0                             0.0   \n",
       "1                                0.0                             0.0   \n",
       "2                                0.0                             0.0   \n",
       "3                                0.0                             0.0   \n",
       "4                                0.0                             0.0   \n",
       "...                              ...                             ...   \n",
       "532723                           0.0                             0.0   \n",
       "532724                           0.0                             0.0   \n",
       "532725                           0.0                             0.0   \n",
       "532726                           0.0                             0.0   \n",
       "532727                           0.0                             0.0   \n",
       "\n",
       "        fashion_news_frequency_NONE  fashion_news_frequency_None  \\\n",
       "0                               1.0                          0.0   \n",
       "1                               1.0                          0.0   \n",
       "2                               1.0                          0.0   \n",
       "3                               1.0                          0.0   \n",
       "4                               1.0                          0.0   \n",
       "...                             ...                          ...   \n",
       "532723                          0.0                          0.0   \n",
       "532724                          0.0                          0.0   \n",
       "532725                          1.0                          0.0   \n",
       "532726                          0.0                          0.0   \n",
       "532727                          0.0                          0.0   \n",
       "\n",
       "        fashion_news_frequency_Regularly  \n",
       "0                                    0.0  \n",
       "1                                    0.0  \n",
       "2                                    0.0  \n",
       "3                                    0.0  \n",
       "4                                    0.0  \n",
       "...                                  ...  \n",
       "532723                               1.0  \n",
       "532724                               1.0  \n",
       "532725                               0.0  \n",
       "532726                               1.0  \n",
       "532727                               1.0  \n",
       "\n",
       "[532728 rows x 373 columns]"
      ]
     },
     "execution_count": 54,
     "metadata": {},
     "output_type": "execute_result"
    }
   ],
   "source": [
    "df_data"
   ]
  },
  {
   "cell_type": "markdown",
   "id": "35271d88",
   "metadata": {
    "papermill": {
     "duration": 0.060094,
     "end_time": "2022-02-26T05:51:43.260765",
     "exception": false,
     "start_time": "2022-02-26T05:51:43.200671",
     "status": "completed"
    },
    "tags": []
   },
   "source": [
    "# Training"
   ]
  },
  {
   "cell_type": "code",
   "execution_count": 36,
   "id": "72ed8476",
   "metadata": {
    "execution": {
     "iopub.execute_input": "2022-02-26T05:51:43.393786Z",
     "iopub.status.busy": "2022-02-26T05:51:43.392820Z",
     "iopub.status.idle": "2022-02-26T05:51:43.395593Z",
     "shell.execute_reply": "2022-02-26T05:51:43.395010Z",
     "shell.execute_reply.started": "2022-02-26T05:47:01.483979Z"
    },
    "papermill": {
     "duration": 0.074508,
     "end_time": "2022-02-26T05:51:43.395738",
     "exception": false,
     "start_time": "2022-02-26T05:51:43.321230",
     "status": "completed"
    },
    "tags": []
   },
   "outputs": [],
   "source": [
    "def train(df_data):    \n",
    "    cols = [col for col in df_data.columns if Config.label != col]\n",
    "\n",
    "    folds = StratifiedKFold(n_splits=Config.n_fold, random_state=Config.seed, shuffle=True)\n",
    "    es = early_stopping(1000)\n",
    "    le = log_evaluation(period=100)\n",
    "    scores = []    \n",
    "        \n",
    "    for fold, (train_idx, val_idx) in enumerate(folds.split(df_data, df_data[Config.label])):\n",
    "        print(f\"=====fold {fold}=======\")\n",
    "\n",
    "        df_train = df_data.loc[train_idx].reset_index(drop=True)\n",
    "        df_val = df_data.loc[val_idx].reset_index(drop=True)\n",
    "        \n",
    "        print(\"train shape\", df_train.shape, \"test shape\", df_val.shape)\n",
    "        \n",
    "        model = LGBMClassifier(random_state=Config.seed, **Config.lgbm)\n",
    "        \n",
    "        model.fit(df_train[cols], df_train[Config.label],\n",
    "                eval_set=(df_val[cols], df_val[Config.label]),\n",
    "                callbacks=[es, le],\n",
    "                eval_metric=\"auc\"              \n",
    "                )\n",
    "        \n",
    "        # validation\n",
    "        val_pred = model.predict(df_val[cols])\n",
    "        val_score = roc_auc_score(df_val[Config.label], val_pred)\n",
    "        scores.append(val_score)\n",
    "        \n",
    "        # save_model\n",
    "        joblib.dump(model,f\"lgbm_fold_{fold}.joblib\")\n",
    "\n",
    "    return scores"
   ]
  },
  {
   "cell_type": "code",
   "execution_count": 37,
   "id": "3646e9f1",
   "metadata": {
    "execution": {
     "iopub.execute_input": "2022-02-26T05:51:43.520460Z",
     "iopub.status.busy": "2022-02-26T05:51:43.519485Z",
     "iopub.status.idle": "2022-02-26T05:52:26.910015Z",
     "shell.execute_reply": "2022-02-26T05:52:26.910656Z",
     "shell.execute_reply.started": "2022-02-26T05:47:01.495798Z"
    },
    "papermill": {
     "duration": 43.454637,
     "end_time": "2022-02-26T05:52:26.910882",
     "exception": false,
     "start_time": "2022-02-26T05:51:43.456245",
     "status": "completed"
    },
    "tags": []
   },
   "outputs": [
    {
     "name": "stdout",
     "output_type": "stream",
     "text": [
      "=====fold 0=======\n",
      "train shape (426182, 373) test shape (106546, 373)\n",
      "Training until validation scores don't improve for 1000 rounds\n",
      "Did not meet early stopping. Best iteration is:\n",
      "[50]\tvalid_0's auc: 0.569183\tvalid_0's binary_logloss: 0.685914\n",
      "=====fold 1=======\n",
      "train shape (426182, 373) test shape (106546, 373)\n",
      "Did not meet early stopping. Best iteration is:\n",
      "[50]\tvalid_0's auc: 0.569183\tvalid_0's binary_logloss: 0.685914\n",
      "=====fold 2=======\n",
      "train shape (426182, 373) test shape (106546, 373)\n",
      "Did not meet early stopping. Best iteration is:\n",
      "[50]\tvalid_0's auc: 0.570048\tvalid_0's binary_logloss: 0.685403\n",
      "=====fold 3=======\n",
      "train shape (426183, 373) test shape (106545, 373)\n",
      "Did not meet early stopping. Best iteration is:\n",
      "[50]\tvalid_0's auc: 0.570048\tvalid_0's binary_logloss: 0.685403\n",
      "=====fold 4=======\n",
      "train shape (426183, 373) test shape (106545, 373)\n",
      "Did not meet early stopping. Best iteration is:\n",
      "[50]\tvalid_0's auc: 0.570048\tvalid_0's binary_logloss: 0.685403\n"
     ]
    }
   ],
   "source": [
    "scores = train(df_data)"
   ]
  },
  {
   "cell_type": "code",
   "execution_count": 38,
   "id": "2746bc99",
   "metadata": {
    "execution": {
     "iopub.execute_input": "2022-02-26T05:52:27.049179Z",
     "iopub.status.busy": "2022-02-26T05:52:27.047707Z",
     "iopub.status.idle": "2022-02-26T05:52:27.053176Z",
     "shell.execute_reply": "2022-02-26T05:52:27.052605Z",
     "shell.execute_reply.started": "2022-02-26T05:47:51.993284Z"
    },
    "papermill": {
     "duration": 0.074174,
     "end_time": "2022-02-26T05:52:27.053322",
     "exception": false,
     "start_time": "2022-02-26T05:52:26.979148",
     "status": "completed"
    },
    "tags": []
   },
   "outputs": [
    {
     "name": "stdout",
     "output_type": "stream",
     "text": [
      "[0.5465902051695981, 0.5416909128451561, 0.5473973682728587, 0.5453565916169729, 0.5448682495109083]\n",
      "0.5451806654830987\n"
     ]
    }
   ],
   "source": [
    "print(scores)\n",
    "print(np.mean(scores))"
   ]
  },
  {
   "cell_type": "code",
   "execution_count": 39,
   "id": "f907b241",
   "metadata": {
    "execution": {
     "iopub.execute_input": "2022-02-26T05:52:27.191025Z",
     "iopub.status.busy": "2022-02-26T05:52:27.190332Z",
     "iopub.status.idle": "2022-02-26T05:52:27.195470Z",
     "shell.execute_reply": "2022-02-26T05:52:27.195960Z",
     "shell.execute_reply.started": "2022-02-26T05:47:52.001663Z"
    },
    "papermill": {
     "duration": 0.075993,
     "end_time": "2022-02-26T05:52:27.196142",
     "exception": false,
     "start_time": "2022-02-26T05:52:27.120149",
     "status": "completed"
    },
    "tags": []
   },
   "outputs": [
    {
     "data": {
      "text/plain": [
       "(532728, 373)"
      ]
     },
     "execution_count": 39,
     "metadata": {},
     "output_type": "execute_result"
    }
   ],
   "source": [
    "df_data.shape"
   ]
  },
  {
   "cell_type": "markdown",
   "id": "3483255f",
   "metadata": {
    "papermill": {
     "duration": 0.066563,
     "end_time": "2022-02-26T05:52:27.330713",
     "exception": false,
     "start_time": "2022-02-26T05:52:27.264150",
     "status": "completed"
    },
    "tags": []
   },
   "source": [
    "# Feature importance"
   ]
  },
  {
   "cell_type": "code",
   "execution_count": 40,
   "id": "67f60d42",
   "metadata": {
    "execution": {
     "iopub.execute_input": "2022-02-26T05:52:27.468794Z",
     "iopub.status.busy": "2022-02-26T05:52:27.467976Z",
     "iopub.status.idle": "2022-02-26T05:52:27.474890Z",
     "shell.execute_reply": "2022-02-26T05:52:27.475396Z",
     "shell.execute_reply.started": "2022-02-26T05:47:52.017731Z"
    },
    "papermill": {
     "duration": 0.077921,
     "end_time": "2022-02-26T05:52:27.475577",
     "exception": false,
     "start_time": "2022-02-26T05:52:27.397656",
     "status": "completed"
    },
    "tags": []
   },
   "outputs": [],
   "source": [
    "def get_feat_imp(df_data):\n",
    "    imps_list = []    \n",
    "    cols = [col for col in df_data.columns if Config.label != col]\n",
    "    for _fold in range(Config.n_fold):\n",
    "        with open(f\"lgbm_fold_{_fold}.joblib\", \"rb\") as f:\n",
    "            model = joblib.load(f)\n",
    "        imps= model.feature_importances_\n",
    "        imps_list.append(imps)\n",
    "\n",
    "    imps = np.mean(imps_list, axis=0)\n",
    "    df_imps = pd.DataFrame({\"columns\": df_data[cols].columns.tolist(), \"feat_imp\": imps})\n",
    "    df_imps = df_imps.sort_values(\"feat_imp\", ascending=False).reset_index(drop=True)\n",
    "\n",
    "    return df_imps\n",
    " "
   ]
  },
  {
   "cell_type": "code",
   "execution_count": 41,
   "id": "a93ec0c9",
   "metadata": {},
   "outputs": [
    {
     "data": {
      "text/plain": [
       "['label',\n",
       " 'product_code',\n",
       " 'product_type_no',\n",
       " 'graphical_appearance_no',\n",
       " 'colour_group_code',\n",
       " 'perceived_colour_value_id',\n",
       " 'perceived_colour_master_id',\n",
       " 'department_no',\n",
       " 'index_group_no',\n",
       " 'section_no',\n",
       " 'garment_group_no',\n",
       " 'product_type_name_Accessoriesset',\n",
       " 'product_type_name_Aliceband',\n",
       " 'product_type_name_BabyBib',\n",
       " 'product_type_name_Backpack',\n",
       " 'product_type_name_Bag',\n",
       " 'product_type_name_Ballerinas',\n",
       " 'product_type_name_Beanie',\n",
       " 'product_type_name_Belt',\n",
       " 'product_type_name_Bikinitop',\n",
       " 'product_type_name_Blanket',\n",
       " 'product_type_name_Blazer',\n",
       " 'product_type_name_Blouse',\n",
       " 'product_type_name_Bodysuit',\n",
       " 'product_type_name_Bootie',\n",
       " 'product_type_name_Boots',\n",
       " 'product_type_name_Bra',\n",
       " 'product_type_name_Braextender',\n",
       " 'product_type_name_Bracelet',\n",
       " 'product_type_name_Braces',\n",
       " 'product_type_name_Buckethat',\n",
       " 'product_type_name_Bumbag',\n",
       " 'product_type_name_Cap',\n",
       " 'product_type_name_Cappeaked',\n",
       " 'product_type_name_Cardigan',\n",
       " 'product_type_name_Chemcosmetics',\n",
       " 'product_type_name_Clothingmist',\n",
       " 'product_type_name_Coat',\n",
       " 'product_type_name_Costumes',\n",
       " 'product_type_name_Crossbodybag',\n",
       " 'product_type_name_Cushion',\n",
       " 'product_type_name_DogWear',\n",
       " 'product_type_name_Dogwear',\n",
       " 'product_type_name_Dress',\n",
       " 'product_type_name_Dungarees',\n",
       " 'product_type_name_Earring',\n",
       " 'product_type_name_Earrings',\n",
       " 'product_type_name_Eyeglasses',\n",
       " 'product_type_name_Felthat',\n",
       " 'product_type_name_Finecosmetics',\n",
       " 'product_type_name_Flatshoe',\n",
       " 'product_type_name_Flatshoes',\n",
       " 'product_type_name_Flipflop',\n",
       " 'product_type_name_GarmentSet',\n",
       " 'product_type_name_Giftbox',\n",
       " 'product_type_name_Gloves',\n",
       " 'product_type_name_Hairclip',\n",
       " 'product_type_name_Hairstring',\n",
       " 'product_type_name_Hairties',\n",
       " 'product_type_name_Hairaliceband',\n",
       " 'product_type_name_Hairband',\n",
       " 'product_type_name_Hatbeanie',\n",
       " 'product_type_name_Hatbrim',\n",
       " 'product_type_name_Headband',\n",
       " 'product_type_name_Heeledsandals',\n",
       " 'product_type_name_Heels',\n",
       " 'product_type_name_Hoodie',\n",
       " 'product_type_name_Jacket',\n",
       " 'product_type_name_JumpsuitPlaysuit',\n",
       " 'product_type_name_Keychain',\n",
       " 'product_type_name_KidsUnderweartop',\n",
       " 'product_type_name_Legwarmers',\n",
       " 'product_type_name_LeggingsTights',\n",
       " 'product_type_name_LongJohn',\n",
       " 'product_type_name_Markerpen',\n",
       " 'product_type_name_Mobilecase',\n",
       " 'product_type_name_Moccasins',\n",
       " 'product_type_name_Necklace',\n",
       " 'product_type_name_Nightgown',\n",
       " 'product_type_name_Nipplecovers',\n",
       " 'product_type_name_Otheraccessories',\n",
       " 'product_type_name_Othershoe',\n",
       " 'product_type_name_OutdoorWaistcoat',\n",
       " 'product_type_name_Outdooroverall',\n",
       " 'product_type_name_Outdoortrousers',\n",
       " 'product_type_name_Poloshirt',\n",
       " 'product_type_name_Prewalkers',\n",
       " 'product_type_name_Pumps',\n",
       " 'product_type_name_Pyjamabottom',\n",
       " 'product_type_name_Pyjamajumpsuitplaysuit',\n",
       " 'product_type_name_Pyjamaset',\n",
       " 'product_type_name_Ring',\n",
       " 'product_type_name_Robe',\n",
       " 'product_type_name_Sandals',\n",
       " 'product_type_name_Sarong',\n",
       " 'product_type_name_Scarf',\n",
       " 'product_type_name_Sewingkit',\n",
       " 'product_type_name_Shirt',\n",
       " 'product_type_name_Shorts',\n",
       " 'product_type_name_Shoulderbag',\n",
       " 'product_type_name_Sidetable',\n",
       " 'product_type_name_Skirt',\n",
       " 'product_type_name_SleepBag',\n",
       " 'product_type_name_Sleepingsack',\n",
       " 'product_type_name_Slippers',\n",
       " 'product_type_name_Sneakers',\n",
       " 'product_type_name_Socks',\n",
       " 'product_type_name_SoftToys',\n",
       " 'product_type_name_Stainremoverspray',\n",
       " 'product_type_name_Strawhat',\n",
       " 'product_type_name_Sunglasses',\n",
       " 'product_type_name_Sweater',\n",
       " 'product_type_name_Swimsuit',\n",
       " 'product_type_name_Swimwearbottom',\n",
       " 'product_type_name_Swimwearset',\n",
       " 'product_type_name_Swimweartop',\n",
       " 'product_type_name_Tshirt',\n",
       " 'product_type_name_TailoredWaistcoat',\n",
       " 'product_type_name_Tie',\n",
       " 'product_type_name_Top',\n",
       " 'product_type_name_Totebag',\n",
       " 'product_type_name_Towel',\n",
       " 'product_type_name_Toy',\n",
       " 'product_type_name_Trousers',\n",
       " 'product_type_name_Umbrella',\n",
       " 'product_type_name_Underdress',\n",
       " 'product_type_name_UnderwearTights',\n",
       " 'product_type_name_Underwearbody',\n",
       " 'product_type_name_Underwearbottom',\n",
       " 'product_type_name_Underwearcorset',\n",
       " 'product_type_name_Underwearset',\n",
       " 'product_type_name_Unknown',\n",
       " 'product_type_name_Vesttop',\n",
       " 'product_type_name_Wallet',\n",
       " 'product_type_name_Washingbag',\n",
       " 'product_type_name_Watch',\n",
       " 'product_type_name_Waterbottle',\n",
       " 'product_type_name_Wedge',\n",
       " 'product_type_name_WeekendGymbag',\n",
       " 'product_type_name_Wirelessearphonecase',\n",
       " 'product_type_name_Woodballs',\n",
       " 'product_type_name_Zipperhead',\n",
       " 'product_group_name_Accessories',\n",
       " 'product_group_name_Bags',\n",
       " 'product_group_name_Cosmetic',\n",
       " 'product_group_name_Fun',\n",
       " 'product_group_name_Furniture',\n",
       " 'product_group_name_GarmentFullbody',\n",
       " 'product_group_name_GarmentLowerbody',\n",
       " 'product_group_name_GarmentUpperbody',\n",
       " 'product_group_name_GarmentandShoecare',\n",
       " 'product_group_name_Interiortextile',\n",
       " 'product_group_name_Items',\n",
       " 'product_group_name_Nightwear',\n",
       " 'product_group_name_Shoes',\n",
       " 'product_group_name_SocksTights',\n",
       " 'product_group_name_Stationery',\n",
       " 'product_group_name_Swimwear',\n",
       " 'product_group_name_Underwear',\n",
       " 'product_group_name_Underwearnightwear',\n",
       " 'product_group_name_Unknown',\n",
       " 'graphical_appearance_name_Alloverpattern',\n",
       " 'graphical_appearance_name_Application3D',\n",
       " 'graphical_appearance_name_Argyle',\n",
       " 'graphical_appearance_name_Chambray',\n",
       " 'graphical_appearance_name_Check',\n",
       " 'graphical_appearance_name_Colourblocking',\n",
       " 'graphical_appearance_name_Contrast',\n",
       " 'graphical_appearance_name_Denim',\n",
       " 'graphical_appearance_name_Dot',\n",
       " 'graphical_appearance_name_Embroidery',\n",
       " 'graphical_appearance_name_Frontprint',\n",
       " 'graphical_appearance_name_GlitteringMetallic',\n",
       " 'graphical_appearance_name_Hologram',\n",
       " 'graphical_appearance_name_Jacquard',\n",
       " 'graphical_appearance_name_Lace',\n",
       " 'graphical_appearance_name_Melange',\n",
       " 'graphical_appearance_name_Mesh',\n",
       " 'graphical_appearance_name_Metallic',\n",
       " 'graphical_appearance_name_Mixedsolidpattern',\n",
       " 'graphical_appearance_name_Neps',\n",
       " 'graphical_appearance_name_Otherpattern',\n",
       " 'graphical_appearance_name_Otherstructure',\n",
       " 'graphical_appearance_name_Placementprint',\n",
       " 'graphical_appearance_name_Sequin',\n",
       " 'graphical_appearance_name_Slub',\n",
       " 'graphical_appearance_name_Solid',\n",
       " 'graphical_appearance_name_Stripe',\n",
       " 'graphical_appearance_name_Transparent',\n",
       " 'graphical_appearance_name_Treatment',\n",
       " 'graphical_appearance_name_Unknown',\n",
       " 'colour_group_name_Beige',\n",
       " 'colour_group_name_Black',\n",
       " 'colour_group_name_Blue',\n",
       " 'colour_group_name_BronzeCopper',\n",
       " 'colour_group_name_DarkBeige',\n",
       " 'colour_group_name_DarkBlue',\n",
       " 'colour_group_name_DarkGreen',\n",
       " 'colour_group_name_DarkGrey',\n",
       " 'colour_group_name_DarkOrange',\n",
       " 'colour_group_name_DarkPink',\n",
       " 'colour_group_name_DarkPurple',\n",
       " 'colour_group_name_DarkRed',\n",
       " 'colour_group_name_DarkTurquoise',\n",
       " 'colour_group_name_DarkYellow',\n",
       " 'colour_group_name_Gold',\n",
       " 'colour_group_name_Green',\n",
       " 'colour_group_name_GreenishKhaki',\n",
       " 'colour_group_name_Grey',\n",
       " 'colour_group_name_GreyishBeige',\n",
       " 'colour_group_name_LightBeige',\n",
       " 'colour_group_name_LightBlue',\n",
       " 'colour_group_name_LightGreen',\n",
       " 'colour_group_name_LightGrey',\n",
       " 'colour_group_name_LightOrange',\n",
       " 'colour_group_name_LightPink',\n",
       " 'colour_group_name_LightPurple',\n",
       " 'colour_group_name_LightRed',\n",
       " 'colour_group_name_LightTurquoise',\n",
       " 'colour_group_name_LightYellow',\n",
       " 'colour_group_name_OffWhite',\n",
       " 'colour_group_name_Orange',\n",
       " 'colour_group_name_Other',\n",
       " 'colour_group_name_OtherBlue',\n",
       " 'colour_group_name_OtherGreen',\n",
       " 'colour_group_name_OtherOrange',\n",
       " 'colour_group_name_OtherPink',\n",
       " 'colour_group_name_OtherPurple',\n",
       " 'colour_group_name_OtherRed',\n",
       " 'colour_group_name_OtherTurquoise',\n",
       " 'colour_group_name_OtherYellow',\n",
       " 'colour_group_name_Pink',\n",
       " 'colour_group_name_Purple',\n",
       " 'colour_group_name_Red',\n",
       " 'colour_group_name_Silver',\n",
       " 'colour_group_name_Transparent',\n",
       " 'colour_group_name_Turquoise',\n",
       " 'colour_group_name_Unknown',\n",
       " 'colour_group_name_White',\n",
       " 'colour_group_name_Yellow',\n",
       " 'colour_group_name_YellowishBrown',\n",
       " 'perceived_colour_value_name_Bright',\n",
       " 'perceived_colour_value_name_Dark',\n",
       " 'perceived_colour_value_name_DustyLight',\n",
       " 'perceived_colour_value_name_Light',\n",
       " 'perceived_colour_value_name_Medium',\n",
       " 'perceived_colour_value_name_MediumDusty',\n",
       " 'perceived_colour_value_name_Undefined',\n",
       " 'perceived_colour_value_name_Unknown',\n",
       " 'perceived_colour_master_name_Beige',\n",
       " 'perceived_colour_master_name_Black',\n",
       " 'perceived_colour_master_name_Blue',\n",
       " 'perceived_colour_master_name_BluishGreen',\n",
       " 'perceived_colour_master_name_Brown',\n",
       " 'perceived_colour_master_name_Green',\n",
       " 'perceived_colour_master_name_Grey',\n",
       " 'perceived_colour_master_name_Khakigreen',\n",
       " 'perceived_colour_master_name_LilacPurple',\n",
       " 'perceived_colour_master_name_Metal',\n",
       " 'perceived_colour_master_name_Mole',\n",
       " 'perceived_colour_master_name_Orange',\n",
       " 'perceived_colour_master_name_Pink',\n",
       " 'perceived_colour_master_name_Red',\n",
       " 'perceived_colour_master_name_Turquoise',\n",
       " 'perceived_colour_master_name_Unknown',\n",
       " 'perceived_colour_master_name_White',\n",
       " 'perceived_colour_master_name_Yellow',\n",
       " 'perceived_colour_master_name_YellowishGreen',\n",
       " 'perceived_colour_master_name_undefined',\n",
       " 'index_name_BabySizes5098',\n",
       " 'index_name_ChildrenAccessoriesSwimwear',\n",
       " 'index_name_ChildrenSizes134170',\n",
       " 'index_name_ChildrenSizes92140',\n",
       " 'index_name_Divided',\n",
       " 'index_name_LadiesAccessories',\n",
       " 'index_name_Ladieswear',\n",
       " 'index_name_LingeriesTights',\n",
       " 'index_name_Menswear',\n",
       " 'index_name_Sport',\n",
       " 'index_group_name_BabyChildren',\n",
       " 'index_group_name_Divided',\n",
       " 'index_group_name_Ladieswear',\n",
       " 'index_group_name_Menswear',\n",
       " 'index_group_name_Sport',\n",
       " 'section_name_BabyBoy',\n",
       " 'section_name_BabyEssentialsComplements',\n",
       " 'section_name_BabyGirl',\n",
       " 'section_name_BoysUnderwearBasics',\n",
       " 'section_name_Collaborations',\n",
       " 'section_name_ContemporaryCasual',\n",
       " 'section_name_ContemporarySmart',\n",
       " 'section_name_ContemporaryStreet',\n",
       " 'section_name_DenimMen',\n",
       " 'section_name_DividedAccessories',\n",
       " 'section_name_DividedAsiakeys',\n",
       " 'section_name_DividedBasics',\n",
       " 'section_name_DividedCollection',\n",
       " 'section_name_DividedComplementsOther',\n",
       " 'section_name_DividedProjects',\n",
       " 'section_name_DividedSelected',\n",
       " 'section_name_EQDivided',\n",
       " 'section_name_GirlsUnderwearBasics',\n",
       " 'section_name_HM',\n",
       " 'section_name_KidsBabyShoes',\n",
       " 'section_name_KidsAccessoriesSwimwearD',\n",
       " 'section_name_KidsBoy',\n",
       " 'section_name_KidsGirl',\n",
       " 'section_name_KidsLocalRelevance',\n",
       " 'section_name_KidsOuterwear',\n",
       " 'section_name_KidsSports',\n",
       " 'section_name_LadiesDenim',\n",
       " 'section_name_LadiesHMSport',\n",
       " 'section_name_LadiesOther',\n",
       " 'section_name_Mama',\n",
       " 'section_name_MenAccessories',\n",
       " 'section_name_MenEdition',\n",
       " 'section_name_MenHMSport',\n",
       " 'section_name_MenOther',\n",
       " 'section_name_MenOther2',\n",
       " 'section_name_MenProject',\n",
       " 'section_name_MenShoes',\n",
       " 'section_name_MenSuitsTailoring',\n",
       " 'section_name_MenUnderwear',\n",
       " 'section_name_MensOuterwear',\n",
       " 'section_name_SpecialCollections',\n",
       " 'section_name_WomensBigaccessories',\n",
       " 'section_name_WomensCasual',\n",
       " 'section_name_WomensEverydayBasics',\n",
       " 'section_name_WomensEverydayCollection',\n",
       " 'section_name_WomensJackets',\n",
       " 'section_name_WomensLingerie',\n",
       " 'section_name_WomensNightwearSocksTigh',\n",
       " 'section_name_WomensPremium',\n",
       " 'section_name_WomensShoes',\n",
       " 'section_name_WomensSmallaccessories',\n",
       " 'section_name_WomensSwimwearbeachwear',\n",
       " 'section_name_WomensTailoring',\n",
       " 'section_name_WomensTrend',\n",
       " 'section_name_YoungBoy',\n",
       " 'section_name_YoungGirl',\n",
       " 'garment_group_name_Accessories',\n",
       " 'garment_group_name_Blouses',\n",
       " 'garment_group_name_Dressed',\n",
       " 'garment_group_name_DressesLadies',\n",
       " 'garment_group_name_DressesSkirtsgirls',\n",
       " 'garment_group_name_JerseyBasic',\n",
       " 'garment_group_name_JerseyFancy',\n",
       " 'garment_group_name_Knitwear',\n",
       " 'garment_group_name_Outdoor',\n",
       " 'garment_group_name_Shirts',\n",
       " 'garment_group_name_Shoes',\n",
       " 'garment_group_name_Shorts',\n",
       " 'garment_group_name_Skirts',\n",
       " 'garment_group_name_SocksandTights',\n",
       " 'garment_group_name_SpecialOffers',\n",
       " 'garment_group_name_Swimwear',\n",
       " 'garment_group_name_Trousers',\n",
       " 'garment_group_name_TrousersDenim',\n",
       " 'garment_group_name_UnderNightwear',\n",
       " 'garment_group_name_Unknown',\n",
       " 'garment_group_name_WovenJerseyKnittedmixBaby',\n",
       " 'FN',\n",
       " 'Active',\n",
       " 'age',\n",
       " 'zipcode_encoding',\n",
       " 'club_member_status_ACTIVE',\n",
       " 'club_member_status_LEFTCLUB',\n",
       " 'club_member_status_NONE',\n",
       " 'club_member_status_PRECREATE',\n",
       " 'fashion_news_frequency_Monthly',\n",
       " 'fashion_news_frequency_NONE',\n",
       " 'fashion_news_frequency_None',\n",
       " 'fashion_news_frequency_Regularly']"
      ]
     },
     "execution_count": 41,
     "metadata": {},
     "output_type": "execute_result"
    }
   ],
   "source": [
    "list(df_data.columns)"
   ]
  },
  {
   "cell_type": "code",
   "execution_count": 42,
   "id": "15a7a28c",
   "metadata": {
    "execution": {
     "iopub.execute_input": "2022-02-26T05:52:27.621792Z",
     "iopub.status.busy": "2022-02-26T05:52:27.620748Z",
     "iopub.status.idle": "2022-02-26T05:52:28.437904Z",
     "shell.execute_reply": "2022-02-26T05:52:28.438558Z",
     "shell.execute_reply.started": "2022-02-26T05:47:52.031163Z"
    },
    "papermill": {
     "duration": 0.895593,
     "end_time": "2022-02-26T05:52:28.438735",
     "exception": false,
     "start_time": "2022-02-26T05:52:27.543142",
     "status": "completed"
    },
    "tags": []
   },
   "outputs": [
    {
     "data": {
      "text/html": [
       "<div>\n",
       "<style scoped>\n",
       "    .dataframe tbody tr th:only-of-type {\n",
       "        vertical-align: middle;\n",
       "    }\n",
       "\n",
       "    .dataframe tbody tr th {\n",
       "        vertical-align: top;\n",
       "    }\n",
       "\n",
       "    .dataframe thead th {\n",
       "        text-align: right;\n",
       "    }\n",
       "</style>\n",
       "<table border=\"1\" class=\"dataframe\">\n",
       "  <thead>\n",
       "    <tr style=\"text-align: right;\">\n",
       "      <th></th>\n",
       "      <th>columns</th>\n",
       "      <th>feat_imp</th>\n",
       "    </tr>\n",
       "  </thead>\n",
       "  <tbody>\n",
       "    <tr>\n",
       "      <th>0</th>\n",
       "      <td>age</td>\n",
       "      <td>391.6</td>\n",
       "    </tr>\n",
       "    <tr>\n",
       "      <th>1</th>\n",
       "      <td>product_code</td>\n",
       "      <td>175.2</td>\n",
       "    </tr>\n",
       "    <tr>\n",
       "      <th>2</th>\n",
       "      <td>department_no</td>\n",
       "      <td>103.8</td>\n",
       "    </tr>\n",
       "    <tr>\n",
       "      <th>3</th>\n",
       "      <td>product_type_no</td>\n",
       "      <td>62.6</td>\n",
       "    </tr>\n",
       "    <tr>\n",
       "      <th>4</th>\n",
       "      <td>colour_group_code</td>\n",
       "      <td>52.8</td>\n",
       "    </tr>\n",
       "    <tr>\n",
       "      <th>5</th>\n",
       "      <td>section_no</td>\n",
       "      <td>50.4</td>\n",
       "    </tr>\n",
       "    <tr>\n",
       "      <th>6</th>\n",
       "      <td>graphical_appearance_no</td>\n",
       "      <td>41.0</td>\n",
       "    </tr>\n",
       "    <tr>\n",
       "      <th>7</th>\n",
       "      <td>section_name_Mama</td>\n",
       "      <td>39.2</td>\n",
       "    </tr>\n",
       "    <tr>\n",
       "      <th>8</th>\n",
       "      <td>garment_group_no</td>\n",
       "      <td>29.2</td>\n",
       "    </tr>\n",
       "    <tr>\n",
       "      <th>9</th>\n",
       "      <td>perceived_colour_master_id</td>\n",
       "      <td>24.6</td>\n",
       "    </tr>\n",
       "    <tr>\n",
       "      <th>10</th>\n",
       "      <td>zipcode_encoding</td>\n",
       "      <td>21.0</td>\n",
       "    </tr>\n",
       "    <tr>\n",
       "      <th>11</th>\n",
       "      <td>FN</td>\n",
       "      <td>19.4</td>\n",
       "    </tr>\n",
       "    <tr>\n",
       "      <th>12</th>\n",
       "      <td>index_name_Ladieswear</td>\n",
       "      <td>18.4</td>\n",
       "    </tr>\n",
       "    <tr>\n",
       "      <th>13</th>\n",
       "      <td>Active</td>\n",
       "      <td>18.0</td>\n",
       "    </tr>\n",
       "    <tr>\n",
       "      <th>14</th>\n",
       "      <td>index_group_no</td>\n",
       "      <td>15.6</td>\n",
       "    </tr>\n",
       "    <tr>\n",
       "      <th>15</th>\n",
       "      <td>index_group_name_BabyChildren</td>\n",
       "      <td>15.6</td>\n",
       "    </tr>\n",
       "    <tr>\n",
       "      <th>16</th>\n",
       "      <td>perceived_colour_value_id</td>\n",
       "      <td>14.0</td>\n",
       "    </tr>\n",
       "    <tr>\n",
       "      <th>17</th>\n",
       "      <td>index_name_Divided</td>\n",
       "      <td>12.6</td>\n",
       "    </tr>\n",
       "    <tr>\n",
       "      <th>18</th>\n",
       "      <td>product_type_name_Dress</td>\n",
       "      <td>11.8</td>\n",
       "    </tr>\n",
       "    <tr>\n",
       "      <th>19</th>\n",
       "      <td>fashion_news_frequency_NONE</td>\n",
       "      <td>11.6</td>\n",
       "    </tr>\n",
       "    <tr>\n",
       "      <th>20</th>\n",
       "      <td>index_name_ChildrenSizes134170</td>\n",
       "      <td>11.2</td>\n",
       "    </tr>\n",
       "    <tr>\n",
       "      <th>21</th>\n",
       "      <td>perceived_colour_value_name_Light</td>\n",
       "      <td>10.4</td>\n",
       "    </tr>\n",
       "    <tr>\n",
       "      <th>22</th>\n",
       "      <td>index_name_Menswear</td>\n",
       "      <td>9.4</td>\n",
       "    </tr>\n",
       "    <tr>\n",
       "      <th>23</th>\n",
       "      <td>section_name_WomensPremium</td>\n",
       "      <td>9.0</td>\n",
       "    </tr>\n",
       "    <tr>\n",
       "      <th>24</th>\n",
       "      <td>section_name_BabyEssentialsComplements</td>\n",
       "      <td>8.8</td>\n",
       "    </tr>\n",
       "    <tr>\n",
       "      <th>25</th>\n",
       "      <td>index_name_LingeriesTights</td>\n",
       "      <td>7.8</td>\n",
       "    </tr>\n",
       "    <tr>\n",
       "      <th>26</th>\n",
       "      <td>product_type_name_Trousers</td>\n",
       "      <td>7.4</td>\n",
       "    </tr>\n",
       "    <tr>\n",
       "      <th>27</th>\n",
       "      <td>colour_group_name_DarkBlue</td>\n",
       "      <td>7.2</td>\n",
       "    </tr>\n",
       "    <tr>\n",
       "      <th>28</th>\n",
       "      <td>garment_group_name_TrousersDenim</td>\n",
       "      <td>7.2</td>\n",
       "    </tr>\n",
       "    <tr>\n",
       "      <th>29</th>\n",
       "      <td>product_type_name_Top</td>\n",
       "      <td>7.0</td>\n",
       "    </tr>\n",
       "  </tbody>\n",
       "</table>\n",
       "</div>"
      ],
      "text/plain": [
       "                                   columns  feat_imp\n",
       "0                                      age     391.6\n",
       "1                             product_code     175.2\n",
       "2                            department_no     103.8\n",
       "3                          product_type_no      62.6\n",
       "4                        colour_group_code      52.8\n",
       "5                               section_no      50.4\n",
       "6                  graphical_appearance_no      41.0\n",
       "7                        section_name_Mama      39.2\n",
       "8                         garment_group_no      29.2\n",
       "9               perceived_colour_master_id      24.6\n",
       "10                        zipcode_encoding      21.0\n",
       "11                                      FN      19.4\n",
       "12                   index_name_Ladieswear      18.4\n",
       "13                                  Active      18.0\n",
       "14                          index_group_no      15.6\n",
       "15           index_group_name_BabyChildren      15.6\n",
       "16               perceived_colour_value_id      14.0\n",
       "17                      index_name_Divided      12.6\n",
       "18                 product_type_name_Dress      11.8\n",
       "19             fashion_news_frequency_NONE      11.6\n",
       "20          index_name_ChildrenSizes134170      11.2\n",
       "21       perceived_colour_value_name_Light      10.4\n",
       "22                     index_name_Menswear       9.4\n",
       "23              section_name_WomensPremium       9.0\n",
       "24  section_name_BabyEssentialsComplements       8.8\n",
       "25              index_name_LingeriesTights       7.8\n",
       "26              product_type_name_Trousers       7.4\n",
       "27              colour_group_name_DarkBlue       7.2\n",
       "28        garment_group_name_TrousersDenim       7.2\n",
       "29                   product_type_name_Top       7.0"
      ]
     },
     "execution_count": 42,
     "metadata": {},
     "output_type": "execute_result"
    }
   ],
   "source": [
    "df_fea_imp = get_feat_imp(df_data)\n",
    "df_fea_imp.head(30)"
   ]
  },
  {
   "cell_type": "code",
   "execution_count": 43,
   "id": "01de988d",
   "metadata": {
    "execution": {
     "iopub.execute_input": "2022-02-26T05:52:28.585787Z",
     "iopub.status.busy": "2022-02-26T05:52:28.585087Z",
     "iopub.status.idle": "2022-02-26T05:52:29.128353Z",
     "shell.execute_reply": "2022-02-26T05:52:29.128941Z",
     "shell.execute_reply.started": "2022-02-26T05:47:53.008588Z"
    },
    "papermill": {
     "duration": 0.619726,
     "end_time": "2022-02-26T05:52:29.129155",
     "exception": false,
     "start_time": "2022-02-26T05:52:28.509429",
     "status": "completed"
    },
    "tags": []
   },
   "outputs": [
    {
     "data": {
      "text/plain": [
       "<Axes: xlabel='feat_imp', ylabel='columns'>"
      ]
     },
     "execution_count": 43,
     "metadata": {},
     "output_type": "execute_result"
    },
    {
     "data": {
      "image/png": "[encoded data removed]",
      "text/plain": [
       "<Figure size 1000x800 with 1 Axes>"
      ]
     },
     "metadata": {},
     "output_type": "display_data"
    }
   ],
   "source": [
    "_, ax = plt.subplots(figsize=(10, 8))\n",
    "sns.barplot(data=df_fea_imp.head(30), x=\"feat_imp\", y=\"columns\")"
   ]
  },
  {
   "cell_type": "markdown",
   "id": "a53f05a1",
   "metadata": {
    "papermill": {
     "duration": 0.077358,
     "end_time": "2022-02-26T05:52:29.282895",
     "exception": false,
     "start_time": "2022-02-26T05:52:29.205537",
     "status": "completed"
    },
    "tags": []
   },
   "source": [
    "# Inference (only 10 samples)"
   ]
  },
  {
   "cell_type": "code",
   "execution_count": 44,
   "id": "167bf104",
   "metadata": {
    "execution": {
     "iopub.execute_input": "2022-02-26T05:52:29.451721Z",
     "iopub.status.busy": "2022-02-26T05:52:29.450903Z",
     "iopub.status.idle": "2022-02-26T05:52:37.364430Z",
     "shell.execute_reply": "2022-02-26T05:52:37.363866Z",
     "shell.execute_reply.started": "2022-02-26T05:47:53.637821Z"
    },
    "papermill": {
     "duration": 8.00419,
     "end_time": "2022-02-26T05:52:37.364581",
     "exception": false,
     "start_time": "2022-02-26T05:52:29.360391",
     "status": "completed"
    },
    "tags": []
   },
   "outputs": [
    {
     "name": "stdout",
     "output_type": "stream",
     "text": [
      "Memory usage of dataframe is 20.93 MB\n",
      "Memory usage after optimization is: 49.26 MB\n",
      "Decreased by -135.3%\n"
     ]
    },
    {
     "data": {
      "text/html": [
       "<div>\n",
       "<style scoped>\n",
       "    .dataframe tbody tr th:only-of-type {\n",
       "        vertical-align: middle;\n",
       "    }\n",
       "\n",
       "    .dataframe tbody tr th {\n",
       "        vertical-align: top;\n",
       "    }\n",
       "\n",
       "    .dataframe thead th {\n",
       "        text-align: right;\n",
       "    }\n",
       "</style>\n",
       "<table border=\"1\" class=\"dataframe\">\n",
       "  <thead>\n",
       "    <tr style=\"text-align: right;\">\n",
       "      <th></th>\n",
       "      <th>customer_id</th>\n",
       "      <th>prediction</th>\n",
       "    </tr>\n",
       "  </thead>\n",
       "  <tbody>\n",
       "    <tr>\n",
       "      <th>0</th>\n",
       "      <td>00000dbacae5abe5e23885899a1fa44253a17956c6d1c3...</td>\n",
       "      <td>0706016001 0706016002 0372860001 0610776002 07...</td>\n",
       "    </tr>\n",
       "    <tr>\n",
       "      <th>1</th>\n",
       "      <td>0000423b00ade91418cceaf3b26c6af3dd342b51fd051e...</td>\n",
       "      <td>0706016001 0706016002 0372860001 0610776002 07...</td>\n",
       "    </tr>\n",
       "    <tr>\n",
       "      <th>2</th>\n",
       "      <td>000058a12d5b43e67d225668fa1f8d618c13dc232df0ca...</td>\n",
       "      <td>0706016001 0706016002 0372860001 0610776002 07...</td>\n",
       "    </tr>\n",
       "    <tr>\n",
       "      <th>3</th>\n",
       "      <td>00005ca1c9ed5f5146b52ac8639a40ca9d57aeff4d1bd2...</td>\n",
       "      <td>0706016001 0706016002 0372860001 0610776002 07...</td>\n",
       "    </tr>\n",
       "    <tr>\n",
       "      <th>4</th>\n",
       "      <td>00006413d8573cd20ed7128e53b7b13819fe5cfc2d801f...</td>\n",
       "      <td>0706016001 0706016002 0372860001 0610776002 07...</td>\n",
       "    </tr>\n",
       "  </tbody>\n",
       "</table>\n",
       "</div>"
      ],
      "text/plain": [
       "                                         customer_id  \\\n",
       "0  00000dbacae5abe5e23885899a1fa44253a17956c6d1c3...   \n",
       "1  0000423b00ade91418cceaf3b26c6af3dd342b51fd051e...   \n",
       "2  000058a12d5b43e67d225668fa1f8d618c13dc232df0ca...   \n",
       "3  00005ca1c9ed5f5146b52ac8639a40ca9d57aeff4d1bd2...   \n",
       "4  00006413d8573cd20ed7128e53b7b13819fe5cfc2d801f...   \n",
       "\n",
       "                                          prediction  \n",
       "0  0706016001 0706016002 0372860001 0610776002 07...  \n",
       "1  0706016001 0706016002 0372860001 0610776002 07...  \n",
       "2  0706016001 0706016002 0372860001 0610776002 07...  \n",
       "3  0706016001 0706016002 0372860001 0610776002 07...  \n",
       "4  0706016001 0706016002 0372860001 0610776002 07...  "
      ]
     },
     "execution_count": 44,
     "metadata": {},
     "output_type": "execute_result"
    }
   ],
   "source": [
    "df_submission = import_data(Config.sample_submission_path)\n",
    "df_submission.head()"
   ]
  },
  {
   "cell_type": "code",
   "execution_count": 45,
   "id": "73d3d9f4",
   "metadata": {
    "execution": {
     "iopub.execute_input": "2022-02-26T05:52:37.515786Z",
     "iopub.status.busy": "2022-02-26T05:52:37.514921Z",
     "iopub.status.idle": "2022-02-26T05:52:37.517977Z",
     "shell.execute_reply": "2022-02-26T05:52:37.518502Z",
     "shell.execute_reply.started": "2022-02-26T05:48:00.675385Z"
    },
    "papermill": {
     "duration": 0.082382,
     "end_time": "2022-02-26T05:52:37.518687",
     "exception": false,
     "start_time": "2022-02-26T05:52:37.436305",
     "status": "completed"
    },
    "tags": []
   },
   "outputs": [
    {
     "data": {
      "text/plain": [
       "12"
      ]
     },
     "execution_count": 45,
     "metadata": {},
     "output_type": "execute_result"
    }
   ],
   "source": [
    "len(df_submission.iloc[0, 1].split(\" \"))"
   ]
  },
  {
   "cell_type": "code",
   "execution_count": 46,
   "id": "59f355ae",
   "metadata": {
    "execution": {
     "iopub.execute_input": "2022-02-26T05:52:37.668038Z",
     "iopub.status.busy": "2022-02-26T05:52:37.665628Z",
     "iopub.status.idle": "2022-02-26T05:52:37.671569Z",
     "shell.execute_reply": "2022-02-26T05:52:37.671053Z",
     "shell.execute_reply.started": "2022-02-26T05:48:00.685010Z"
    },
    "papermill": {
     "duration": 0.081007,
     "end_time": "2022-02-26T05:52:37.671710",
     "exception": false,
     "start_time": "2022-02-26T05:52:37.590703",
     "status": "completed"
    },
    "tags": []
   },
   "outputs": [
    {
     "data": {
      "text/plain": [
       "(1371980, 2)"
      ]
     },
     "execution_count": 46,
     "metadata": {},
     "output_type": "execute_result"
    }
   ],
   "source": [
    "df_submission.shape"
   ]
  },
  {
   "cell_type": "code",
   "execution_count": 47,
   "id": "e0001dc7",
   "metadata": {
    "execution": {
     "iopub.execute_input": "2022-02-26T05:52:37.825075Z",
     "iopub.status.busy": "2022-02-26T05:52:37.823554Z",
     "iopub.status.idle": "2022-02-26T05:52:39.127651Z",
     "shell.execute_reply": "2022-02-26T05:52:39.127036Z",
     "shell.execute_reply.started": "2022-02-26T05:48:00.699883Z"
    },
    "papermill": {
     "duration": 1.384179,
     "end_time": "2022-02-26T05:52:39.127794",
     "exception": false,
     "start_time": "2022-02-26T05:52:37.743615",
     "status": "completed"
    },
    "tags": []
   },
   "outputs": [
    {
     "name": "stdout",
     "output_type": "stream",
     "text": [
      "Memory usage of dataframe is 20.13 MB\n",
      "Memory usage after optimization is: 7.25 MB\n",
      "Decreased by 64.0%\n"
     ]
    }
   ],
   "source": [
    "df_article = import_data(Config.article_path)\n",
    "df_article = df_article[[\"article_id\"]]"
   ]
  },
  {
   "cell_type": "code",
   "execution_count": 48,
   "id": "39f0e82c",
   "metadata": {
    "execution": {
     "iopub.execute_input": "2022-02-26T05:52:39.282604Z",
     "iopub.status.busy": "2022-02-26T05:52:39.281862Z",
     "iopub.status.idle": "2022-02-26T05:52:39.284627Z",
     "shell.execute_reply": "2022-02-26T05:52:39.285105Z",
     "shell.execute_reply.started": "2022-02-26T05:48:01.921056Z"
    },
    "papermill": {
     "duration": 0.084134,
     "end_time": "2022-02-26T05:52:39.285287",
     "exception": false,
     "start_time": "2022-02-26T05:52:39.201153",
     "status": "completed"
    },
    "tags": []
   },
   "outputs": [
    {
     "data": {
      "text/html": [
       "<div>\n",
       "<style scoped>\n",
       "    .dataframe tbody tr th:only-of-type {\n",
       "        vertical-align: middle;\n",
       "    }\n",
       "\n",
       "    .dataframe tbody tr th {\n",
       "        vertical-align: top;\n",
       "    }\n",
       "\n",
       "    .dataframe thead th {\n",
       "        text-align: right;\n",
       "    }\n",
       "</style>\n",
       "<table border=\"1\" class=\"dataframe\">\n",
       "  <thead>\n",
       "    <tr style=\"text-align: right;\">\n",
       "      <th></th>\n",
       "      <th>article_id</th>\n",
       "    </tr>\n",
       "  </thead>\n",
       "  <tbody>\n",
       "    <tr>\n",
       "      <th>0</th>\n",
       "      <td>108775015</td>\n",
       "    </tr>\n",
       "    <tr>\n",
       "      <th>1</th>\n",
       "      <td>108775044</td>\n",
       "    </tr>\n",
       "    <tr>\n",
       "      <th>2</th>\n",
       "      <td>108775051</td>\n",
       "    </tr>\n",
       "    <tr>\n",
       "      <th>3</th>\n",
       "      <td>110065001</td>\n",
       "    </tr>\n",
       "    <tr>\n",
       "      <th>4</th>\n",
       "      <td>110065002</td>\n",
       "    </tr>\n",
       "  </tbody>\n",
       "</table>\n",
       "</div>"
      ],
      "text/plain": [
       "   article_id\n",
       "0   108775015\n",
       "1   108775044\n",
       "2   108775051\n",
       "3   110065001\n",
       "4   110065002"
      ]
     },
     "execution_count": 48,
     "metadata": {},
     "output_type": "execute_result"
    }
   ],
   "source": [
    "df_article.head()"
   ]
  },
  {
   "cell_type": "code",
   "execution_count": 49,
   "id": "f92f5284",
   "metadata": {
    "execution": {
     "iopub.execute_input": "2022-02-26T05:52:39.438548Z",
     "iopub.status.busy": "2022-02-26T05:52:39.437864Z",
     "iopub.status.idle": "2022-02-26T05:52:39.446837Z",
     "shell.execute_reply": "2022-02-26T05:52:39.447322Z",
     "shell.execute_reply.started": "2022-02-26T05:48:01.932850Z"
    },
    "papermill": {
     "duration": 0.087467,
     "end_time": "2022-02-26T05:52:39.447507",
     "exception": false,
     "start_time": "2022-02-26T05:52:39.360040",
     "status": "completed"
    },
    "tags": []
   },
   "outputs": [],
   "source": [
    "\n",
    "def inference(df_submission, df_article, df_article_feat, df_customer_feat, models, cols):\n",
    "\n",
    "    article_candidates = []\n",
    "\n",
    "    for customer in tqdm.tqdm(df_submission[\"customer_id\"]):\n",
    "        _df = df_article.copy()\n",
    "        _df.loc[:, \"customer_id\"] = customer\n",
    "        _df = create_dataset_faster(_df, df_article_feat, df_customer_feat)         \n",
    "        _df = _df[cols]     \n",
    "\n",
    "        preds = []\n",
    "        for _fold in range(Config.n_fold):\n",
    "            pred = models[_fold].predict_proba(_df, num_iteration=models[_fold]._best_iteration)[:, 1]\n",
    "            preds.append(pred)\n",
    "        \n",
    "        pred = np.mean(preds, axis=0)        \n",
    "        df_pred = pd.DataFrame({\"article_id\": df_article[\"article_id\"].tolist() , \"score\": pred})\n",
    "                \n",
    "        df_pred = df_pred.sort_values(\"score\", ascending=False).reset_index(drop=True)\n",
    "        df_pred = df_pred.head(12)\n",
    "        pred_str = [str(pred) for pred in df_pred[\"article_id\"].tolist()]\n",
    "        article_candidates.append(\" \".join(pred_str))\n",
    "\n",
    "    df_submission.loc[:, \"prediction\"] = article_candidates\n",
    "\n",
    "    return df_submission"
   ]
  },
  {
   "cell_type": "markdown",
   "id": "19ed15b5",
   "metadata": {
    "papermill": {
     "duration": 0.07323,
     "end_time": "2022-02-26T05:52:39.594418",
     "exception": false,
     "start_time": "2022-02-26T05:52:39.521188",
     "status": "completed"
    },
    "tags": []
   },
   "source": [
    "**Predict only 10 samples.  \n",
    "It requires a lot of time to predict all data, 😥**"
   ]
  },
  {
   "cell_type": "code",
   "execution_count": 50,
   "id": "5b22a6a1",
   "metadata": {
    "execution": {
     "iopub.execute_input": "2022-02-26T05:52:39.747280Z",
     "iopub.status.busy": "2022-02-26T05:52:39.746439Z",
     "iopub.status.idle": "2022-02-26T05:52:39.749655Z",
     "shell.execute_reply": "2022-02-26T05:52:39.750148Z",
     "shell.execute_reply.started": "2022-02-26T05:48:01.945356Z"
    },
    "papermill": {
     "duration": 0.082266,
     "end_time": "2022-02-26T05:52:39.750310",
     "exception": false,
     "start_time": "2022-02-26T05:52:39.668044",
     "status": "completed"
    },
    "tags": []
   },
   "outputs": [
    {
     "data": {
      "text/plain": [
       "(105542, 1)"
      ]
     },
     "execution_count": 50,
     "metadata": {},
     "output_type": "execute_result"
    }
   ],
   "source": [
    "df_article.shape"
   ]
  },
  {
   "cell_type": "code",
   "execution_count": 52,
   "id": "4e5f2bc0",
   "metadata": {
    "execution": {
     "iopub.execute_input": "2022-02-26T05:52:39.910098Z",
     "iopub.status.busy": "2022-02-26T05:52:39.908223Z",
     "iopub.status.idle": "2022-02-26T05:53:20.582719Z",
     "shell.execute_reply": "2022-02-26T05:53:20.583273Z",
     "shell.execute_reply.started": "2022-02-26T05:48:01.962692Z"
    },
    "papermill": {
     "duration": 40.757976,
     "end_time": "2022-02-26T05:53:20.583465",
     "exception": false,
     "start_time": "2022-02-26T05:52:39.825489",
     "status": "completed"
    },
    "tags": []
   },
   "outputs": [
    {
     "name": "stderr",
     "output_type": "stream",
     "text": [
      "100%|██████████| 10/10 [00:18<00:00,  1.84s/it]\n",
      "/var/folders/g0/20x6481n3qj57ly098mhydk40000gn/T/ipykernel_78707/149149827.py:24: SettingWithCopyWarning: \n",
      "A value is trying to be set on a copy of a slice from a DataFrame.\n",
      "Try using .loc[row_indexer,col_indexer] = value instead\n",
      "\n",
      "See the caveats in the documentation: https://pandas.pydata.org/pandas-docs/stable/user_guide/indexing.html#returning-a-view-versus-a-copy\n",
      "  df_submission.loc[:, \"prediction\"] = article_candidates\n",
      "/var/folders/g0/20x6481n3qj57ly098mhydk40000gn/T/ipykernel_78707/149149827.py:24: DeprecationWarning: In a future version, `df.iloc[:, i] = newvals` will attempt to set the values inplace instead of always setting a new array. To retain the old behavior, use either `df[df.columns[i]] = newvals` or, if columns are non-unique, `df.isetitem(i, newvals)`\n",
      "  df_submission.loc[:, \"prediction\"] = article_candidates\n"
     ]
    }
   ],
   "source": [
    "models = []\n",
    "for _fold in range(Config.n_fold):\n",
    "    with open(f\"lgbm_fold_{_fold}.joblib\", \"rb\") as f:\n",
    "        model = joblib.load(f)\n",
    "        models.append(model)\n",
    "    \n",
    "cols = [col for col in df_data.columns if Config.label != col]\n",
    "df_sub = inference(df_submission.head(10), df_article, df_article_feat, df_customer_feat, models, cols)\n",
    "# df_sub = inference(df_submission, df_article, df_article_feat, df_customer_feat, models, cols)"
   ]
  },
  {
   "cell_type": "code",
   "execution_count": 53,
   "id": "ebca6083",
   "metadata": {
    "execution": {
     "iopub.execute_input": "2022-02-26T05:53:20.751902Z",
     "iopub.status.busy": "2022-02-26T05:53:20.751152Z",
     "iopub.status.idle": "2022-02-26T05:53:20.753864Z",
     "shell.execute_reply": "2022-02-26T05:53:20.754349Z",
     "shell.execute_reply.started": "2022-02-26T05:48:50.085603Z"
    },
    "papermill": {
     "duration": 0.090889,
     "end_time": "2022-02-26T05:53:20.754525",
     "exception": false,
     "start_time": "2022-02-26T05:53:20.663636",
     "status": "completed"
    },
    "tags": []
   },
   "outputs": [
    {
     "data": {
      "text/html": [
       "<div>\n",
       "<style scoped>\n",
       "    .dataframe tbody tr th:only-of-type {\n",
       "        vertical-align: middle;\n",
       "    }\n",
       "\n",
       "    .dataframe tbody tr th {\n",
       "        vertical-align: top;\n",
       "    }\n",
       "\n",
       "    .dataframe thead th {\n",
       "        text-align: right;\n",
       "    }\n",
       "</style>\n",
       "<table border=\"1\" class=\"dataframe\">\n",
       "  <thead>\n",
       "    <tr style=\"text-align: right;\">\n",
       "      <th></th>\n",
       "      <th>customer_id</th>\n",
       "      <th>prediction</th>\n",
       "    </tr>\n",
       "  </thead>\n",
       "  <tbody>\n",
       "    <tr>\n",
       "      <th>0</th>\n",
       "      <td>00000dbacae5abe5e23885899a1fa44253a17956c6d1c3...</td>\n",
       "      <td>738330003 541308030 541308026 541308022 541308...</td>\n",
       "    </tr>\n",
       "    <tr>\n",
       "      <th>1</th>\n",
       "      <td>0000423b00ade91418cceaf3b26c6af3dd342b51fd051e...</td>\n",
       "      <td>919248002 894140003 869691002 894140004 854279...</td>\n",
       "    </tr>\n",
       "    <tr>\n",
       "      <th>2</th>\n",
       "      <td>000058a12d5b43e67d225668fa1f8d618c13dc232df0ca...</td>\n",
       "      <td>861471001 869691001 866508001 868018001 865595...</td>\n",
       "    </tr>\n",
       "    <tr>\n",
       "      <th>3</th>\n",
       "      <td>00005ca1c9ed5f5146b52ac8639a40ca9d57aeff4d1bd2...</td>\n",
       "      <td>779957003 774105001 773720001 811943001 810832...</td>\n",
       "    </tr>\n",
       "    <tr>\n",
       "      <th>4</th>\n",
       "      <td>00006413d8573cd20ed7128e53b7b13819fe5cfc2d801f...</td>\n",
       "      <td>713712001 646149001 558980002 558980004 648385...</td>\n",
       "    </tr>\n",
       "    <tr>\n",
       "      <th>5</th>\n",
       "      <td>000064249685c11552da43ef22a5030f35a147f723d5b0...</td>\n",
       "      <td>829343001 907027001 699318002 717577002 707449...</td>\n",
       "    </tr>\n",
       "    <tr>\n",
       "      <th>6</th>\n",
       "      <td>0000757967448a6cb83efb3ea7a3fb9d418ac7adf2379d...</td>\n",
       "      <td>685814003 738713021 738713002 738713038 730570...</td>\n",
       "    </tr>\n",
       "    <tr>\n",
       "      <th>7</th>\n",
       "      <td>00007d2de826758b65a93dd24ce629ed66842531df6699...</td>\n",
       "      <td>597901005 708485002 751794001 737098002 697256...</td>\n",
       "    </tr>\n",
       "    <tr>\n",
       "      <th>8</th>\n",
       "      <td>00007e8d4e54114b5b2a9b51586325a8d0fa74ea23ef77...</td>\n",
       "      <td>738713029 738713024 685814003 717995010 685814...</td>\n",
       "    </tr>\n",
       "    <tr>\n",
       "      <th>9</th>\n",
       "      <td>00008469a21b50b3d147c97135e25b4201a8c58997f787...</td>\n",
       "      <td>738713029 738713024 685814003 717995010 685814...</td>\n",
       "    </tr>\n",
       "  </tbody>\n",
       "</table>\n",
       "</div>"
      ],
      "text/plain": [
       "                                         customer_id  \\\n",
       "0  00000dbacae5abe5e23885899a1fa44253a17956c6d1c3...   \n",
       "1  0000423b00ade91418cceaf3b26c6af3dd342b51fd051e...   \n",
       "2  000058a12d5b43e67d225668fa1f8d618c13dc232df0ca...   \n",
       "3  00005ca1c9ed5f5146b52ac8639a40ca9d57aeff4d1bd2...   \n",
       "4  00006413d8573cd20ed7128e53b7b13819fe5cfc2d801f...   \n",
       "5  000064249685c11552da43ef22a5030f35a147f723d5b0...   \n",
       "6  0000757967448a6cb83efb3ea7a3fb9d418ac7adf2379d...   \n",
       "7  00007d2de826758b65a93dd24ce629ed66842531df6699...   \n",
       "8  00007e8d4e54114b5b2a9b51586325a8d0fa74ea23ef77...   \n",
       "9  00008469a21b50b3d147c97135e25b4201a8c58997f787...   \n",
       "\n",
       "                                          prediction  \n",
       "0  738330003 541308030 541308026 541308022 541308...  \n",
       "1  919248002 894140003 869691002 894140004 854279...  \n",
       "2  861471001 869691001 866508001 868018001 865595...  \n",
       "3  779957003 774105001 773720001 811943001 810832...  \n",
       "4  713712001 646149001 558980002 558980004 648385...  \n",
       "5  829343001 907027001 699318002 717577002 707449...  \n",
       "6  685814003 738713021 738713002 738713038 730570...  \n",
       "7  597901005 708485002 751794001 737098002 697256...  \n",
       "8  738713029 738713024 685814003 717995010 685814...  \n",
       "9  738713029 738713024 685814003 717995010 685814...  "
      ]
     },
     "execution_count": 53,
     "metadata": {},
     "output_type": "execute_result"
    }
   ],
   "source": [
    "df_sub"
   ]
  },
  {
   "cell_type": "code",
   "execution_count": null,
   "id": "0952c2d5",
   "metadata": {
    "execution": {
     "iopub.execute_input": "2022-02-26T05:53:20.920058Z",
     "iopub.status.busy": "2022-02-26T05:53:20.919425Z",
     "iopub.status.idle": "2022-02-26T05:53:20.962453Z",
     "shell.execute_reply": "2022-02-26T05:53:20.961880Z",
     "shell.execute_reply.started": "2022-02-26T05:48:50.100350Z"
    },
    "papermill": {
     "duration": 0.126389,
     "end_time": "2022-02-26T05:53:20.962617",
     "exception": false,
     "start_time": "2022-02-26T05:53:20.836228",
     "status": "completed"
    },
    "tags": []
   },
   "outputs": [],
   "source": [
    "df_sub.to_csv(\"submit.csv\", index=None)"
   ]
  },
  {
   "cell_type": "code",
   "execution_count": null,
   "id": "f56c43a1",
   "metadata": {
    "papermill": {
     "duration": 0.080164,
     "end_time": "2022-02-26T05:53:21.122200",
     "exception": false,
     "start_time": "2022-02-26T05:53:21.042036",
     "status": "completed"
    },
    "tags": []
   },
   "outputs": [],
   "source": []
  }
 ],
 "metadata": {
  "kernelspec": {
   "display_name": "kaggle",
   "language": "python",
   "name": "python3"
  },
  "language_info": {
   "codemirror_mode": {
    "name": "ipython",
    "version": 3
   },
   "file_extension": ".py",
   "mimetype": "text/x-python",
   "name": "python",
   "nbconvert_exporter": "python",
   "pygments_lexer": "ipython3",
   "version": "3.8.16"
  },
  "papermill": {
   "default_parameters": {},
   "duration": 161.995111,
   "end_time": "2022-02-26T05:53:22.113799",
   "environment_variables": {},
   "exception": null,
   "input_path": "__notebook__.ipynb",
   "output_path": "__notebook__.ipynb",
   "parameters": {},
   "start_time": "2022-02-26T05:50:40.118688",
   "version": "2.3.3"
  },
  "vscode": {
   "interpreter": {
    "hash": "322eec173d61d90e6abc7c2798a62763adfc1f2be87cfc5776c3d17ae1dd4c1b"
   }
  }
 },
 "nbformat": 4,
 "nbformat_minor": 5
}
