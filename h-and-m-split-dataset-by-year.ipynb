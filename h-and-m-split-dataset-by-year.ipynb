{
 "cells": [
  {
   "cell_type": "code",
   "execution_count": 1,
   "id": "ac22afe0",
   "metadata": {
    "execution": {
     "iopub.execute_input": "2022-02-13T02:55:09.025032Z",
     "iopub.status.busy": "2022-02-13T02:55:09.024404Z",
     "iopub.status.idle": "2022-02-13T02:55:09.028073Z",
     "shell.execute_reply": "2022-02-13T02:55:09.028668Z",
     "shell.execute_reply.started": "2022-02-12T14:26:27.591745Z"
    },
    "papermill": {
     "duration": 0.034691,
     "end_time": "2022-02-13T02:55:09.028988",
     "exception": false,
     "start_time": "2022-02-13T02:55:08.994297",
     "status": "completed"
    },
    "tags": []
   },
   "outputs": [],
   "source": [
    "import pandas as pd"
   ]
  },
  {
   "cell_type": "code",
   "execution_count": 2,
   "id": "70f20eaf",
   "metadata": {
    "_cell_guid": "b1076dfc-b9ad-4769-8c92-a6c4dae69d19",
    "_uuid": "8f2839f25d086af736a60e9eeb907d3b93b6e0e5",
    "execution": {
     "iopub.execute_input": "2022-02-13T02:55:09.060525Z",
     "iopub.status.busy": "2022-02-13T02:55:09.059746Z",
     "iopub.status.idle": "2022-02-13T02:56:21.620226Z",
     "shell.execute_reply": "2022-02-13T02:56:21.619138Z",
     "shell.execute_reply.started": "2022-02-12T14:27:17.844353Z"
    },
    "papermill": {
     "duration": 72.577979,
     "end_time": "2022-02-13T02:56:21.620394",
     "exception": false,
     "start_time": "2022-02-13T02:55:09.042415",
     "status": "completed"
    },
    "tags": []
   },
   "outputs": [],
   "source": [
    "df_tran = pd.read_csv(\"../h-and-m-personalized-fashion-recommendations/transactions_train.csv\")"
   ]
  },
  {
   "cell_type": "code",
   "execution_count": 3,
   "id": "7f6b1b7b",
   "metadata": {
    "execution": {
     "iopub.execute_input": "2022-02-13T02:56:21.654311Z",
     "iopub.status.busy": "2022-02-13T02:56:21.653337Z",
     "iopub.status.idle": "2022-02-13T02:56:21.673479Z",
     "shell.execute_reply": "2022-02-13T02:56:21.674055Z",
     "shell.execute_reply.started": "2022-02-12T14:29:02.621156Z"
    },
    "papermill": {
     "duration": 0.037512,
     "end_time": "2022-02-13T02:56:21.674234",
     "exception": false,
     "start_time": "2022-02-13T02:56:21.636722",
     "status": "completed"
    },
    "tags": []
   },
   "outputs": [
    {
     "data": {
      "text/html": [
       "<div>\n",
       "<style scoped>\n",
       "    .dataframe tbody tr th:only-of-type {\n",
       "        vertical-align: middle;\n",
       "    }\n",
       "\n",
       "    .dataframe tbody tr th {\n",
       "        vertical-align: top;\n",
       "    }\n",
       "\n",
       "    .dataframe thead th {\n",
       "        text-align: right;\n",
       "    }\n",
       "</style>\n",
       "<table border=\"1\" class=\"dataframe\">\n",
       "  <thead>\n",
       "    <tr style=\"text-align: right;\">\n",
       "      <th></th>\n",
       "      <th>t_dat</th>\n",
       "      <th>customer_id</th>\n",
       "      <th>article_id</th>\n",
       "      <th>price</th>\n",
       "      <th>sales_channel_id</th>\n",
       "    </tr>\n",
       "  </thead>\n",
       "  <tbody>\n",
       "    <tr>\n",
       "      <th>0</th>\n",
       "      <td>2018-09-20</td>\n",
       "      <td>000058a12d5b43e67d225668fa1f8d618c13dc232df0ca...</td>\n",
       "      <td>663713001</td>\n",
       "      <td>0.050831</td>\n",
       "      <td>2</td>\n",
       "    </tr>\n",
       "    <tr>\n",
       "      <th>1</th>\n",
       "      <td>2018-09-20</td>\n",
       "      <td>000058a12d5b43e67d225668fa1f8d618c13dc232df0ca...</td>\n",
       "      <td>541518023</td>\n",
       "      <td>0.030492</td>\n",
       "      <td>2</td>\n",
       "    </tr>\n",
       "    <tr>\n",
       "      <th>2</th>\n",
       "      <td>2018-09-20</td>\n",
       "      <td>00007d2de826758b65a93dd24ce629ed66842531df6699...</td>\n",
       "      <td>505221004</td>\n",
       "      <td>0.015237</td>\n",
       "      <td>2</td>\n",
       "    </tr>\n",
       "    <tr>\n",
       "      <th>3</th>\n",
       "      <td>2018-09-20</td>\n",
       "      <td>00007d2de826758b65a93dd24ce629ed66842531df6699...</td>\n",
       "      <td>685687003</td>\n",
       "      <td>0.016932</td>\n",
       "      <td>2</td>\n",
       "    </tr>\n",
       "    <tr>\n",
       "      <th>4</th>\n",
       "      <td>2018-09-20</td>\n",
       "      <td>00007d2de826758b65a93dd24ce629ed66842531df6699...</td>\n",
       "      <td>685687004</td>\n",
       "      <td>0.016932</td>\n",
       "      <td>2</td>\n",
       "    </tr>\n",
       "  </tbody>\n",
       "</table>\n",
       "</div>"
      ],
      "text/plain": [
       "        t_dat                                        customer_id  article_id  \\\n",
       "0  2018-09-20  000058a12d5b43e67d225668fa1f8d618c13dc232df0ca...   663713001   \n",
       "1  2018-09-20  000058a12d5b43e67d225668fa1f8d618c13dc232df0ca...   541518023   \n",
       "2  2018-09-20  00007d2de826758b65a93dd24ce629ed66842531df6699...   505221004   \n",
       "3  2018-09-20  00007d2de826758b65a93dd24ce629ed66842531df6699...   685687003   \n",
       "4  2018-09-20  00007d2de826758b65a93dd24ce629ed66842531df6699...   685687004   \n",
       "\n",
       "      price  sales_channel_id  \n",
       "0  0.050831                 2  \n",
       "1  0.030492                 2  \n",
       "2  0.015237                 2  \n",
       "3  0.016932                 2  \n",
       "4  0.016932                 2  "
      ]
     },
     "execution_count": 3,
     "metadata": {},
     "output_type": "execute_result"
    }
   ],
   "source": [
    "df_tran.head()"
   ]
  },
  {
   "cell_type": "code",
   "execution_count": 4,
   "id": "d1e1e6b6",
   "metadata": {
    "execution": {
     "iopub.execute_input": "2022-02-13T02:56:21.711246Z",
     "iopub.status.busy": "2022-02-13T02:56:21.710175Z",
     "iopub.status.idle": "2022-02-13T02:56:21.715914Z",
     "shell.execute_reply": "2022-02-13T02:56:21.716545Z",
     "shell.execute_reply.started": "2022-02-12T14:29:10.003337Z"
    },
    "papermill": {
     "duration": 0.027568,
     "end_time": "2022-02-13T02:56:21.716714",
     "exception": false,
     "start_time": "2022-02-13T02:56:21.689146",
     "status": "completed"
    },
    "tags": []
   },
   "outputs": [
    {
     "data": {
      "text/plain": [
       "(31788324, 5)"
      ]
     },
     "execution_count": 4,
     "metadata": {},
     "output_type": "execute_result"
    }
   ],
   "source": [
    "df_tran.shape"
   ]
  },
  {
   "cell_type": "code",
   "execution_count": 5,
   "id": "461cab9f",
   "metadata": {
    "execution": {
     "iopub.execute_input": "2022-02-13T02:56:21.749280Z",
     "iopub.status.busy": "2022-02-13T02:56:21.748608Z",
     "iopub.status.idle": "2022-02-13T02:56:27.444444Z",
     "shell.execute_reply": "2022-02-13T02:56:27.443805Z",
     "shell.execute_reply.started": "2022-02-12T14:29:51.962855Z"
    },
    "papermill": {
     "duration": 5.713267,
     "end_time": "2022-02-13T02:56:27.444581",
     "exception": false,
     "start_time": "2022-02-13T02:56:21.731314",
     "status": "completed"
    },
    "tags": []
   },
   "outputs": [],
   "source": [
    "df_tran[\"t_dat\"] = pd.to_datetime(df_tran[\"t_dat\"])"
   ]
  },
  {
   "cell_type": "code",
   "execution_count": 6,
   "id": "19ef34e8",
   "metadata": {
    "execution": {
     "iopub.execute_input": "2022-02-13T02:56:27.479233Z",
     "iopub.status.busy": "2022-02-13T02:56:27.478510Z",
     "iopub.status.idle": "2022-02-13T02:56:27.688719Z",
     "shell.execute_reply": "2022-02-13T02:56:27.689219Z",
     "shell.execute_reply.started": "2022-02-12T14:34:09.90464Z"
    },
    "papermill": {
     "duration": 0.23,
     "end_time": "2022-02-13T02:56:27.689383",
     "exception": false,
     "start_time": "2022-02-13T02:56:27.459383",
     "status": "completed"
    },
    "tags": []
   },
   "outputs": [
    {
     "data": {
      "text/plain": [
       "(Timestamp('2020-09-22 00:00:00'), Timestamp('2018-09-20 00:00:00'))"
      ]
     },
     "execution_count": 6,
     "metadata": {},
     "output_type": "execute_result"
    }
   ],
   "source": [
    "df_tran.t_dat.max(), df_tran.t_dat.min()"
   ]
  },
  {
   "cell_type": "code",
   "execution_count": 7,
   "id": "1c6cf2d8",
   "metadata": {
    "execution": {
     "iopub.execute_input": "2022-02-13T02:56:27.723621Z",
     "iopub.status.busy": "2022-02-13T02:56:27.722988Z",
     "iopub.status.idle": "2022-02-13T02:56:28.121677Z",
     "shell.execute_reply": "2022-02-13T02:56:28.120844Z",
     "shell.execute_reply.started": "2022-02-12T14:34:39.873048Z"
    },
    "papermill": {
     "duration": 0.418197,
     "end_time": "2022-02-13T02:56:28.121819",
     "exception": false,
     "start_time": "2022-02-13T02:56:27.703622",
     "status": "completed"
    },
    "tags": []
   },
   "outputs": [
    {
     "data": {
      "text/plain": [
       "(Timestamp('2018-12-31 00:00:00'), Timestamp('2018-09-20 00:00:00'))"
      ]
     },
     "execution_count": 7,
     "metadata": {},
     "output_type": "execute_result"
    }
   ],
   "source": [
    "cond_max = df_tran[\"t_dat\"] < pd.to_datetime(\"2019-1-1\")\n",
    "df_tran_2018 = df_tran[cond_max]\n",
    "df_tran_2018.t_dat.max(), df_tran_2018.t_dat.min()"
   ]
  },
  {
   "cell_type": "code",
   "execution_count": 8,
   "id": "0d57f309",
   "metadata": {
    "execution": {
     "iopub.execute_input": "2022-02-13T02:56:28.157741Z",
     "iopub.status.busy": "2022-02-13T02:56:28.157091Z",
     "iopub.status.idle": "2022-02-13T02:56:29.267694Z",
     "shell.execute_reply": "2022-02-13T02:56:29.267199Z",
     "shell.execute_reply.started": "2022-02-12T14:34:40.508513Z"
    },
    "papermill": {
     "duration": 1.131108,
     "end_time": "2022-02-13T02:56:29.267836",
     "exception": false,
     "start_time": "2022-02-13T02:56:28.136728",
     "status": "completed"
    },
    "tags": []
   },
   "outputs": [
    {
     "data": {
      "text/plain": [
       "(Timestamp('2019-12-31 00:00:00'), Timestamp('2019-01-01 00:00:00'))"
      ]
     },
     "execution_count": 8,
     "metadata": {},
     "output_type": "execute_result"
    }
   ],
   "source": [
    "cond_min = pd.to_datetime(\"2019-1-1\") <= df_tran[\"t_dat\"] \n",
    "cond_max = df_tran[\"t_dat\"] < pd.to_datetime(\"2020-1-1\")\n",
    "df_tran_2019 = df_tran[cond_min & cond_max]\n",
    "\n",
    "df_tran_2019.t_dat.max(), df_tran_2019.t_dat.min()"
   ]
  },
  {
   "cell_type": "code",
   "execution_count": 9,
   "id": "48271f08",
   "metadata": {
    "execution": {
     "iopub.execute_input": "2022-02-13T02:56:29.301363Z",
     "iopub.status.busy": "2022-02-13T02:56:29.300587Z",
     "iopub.status.idle": "2022-02-13T02:56:30.008764Z",
     "shell.execute_reply": "2022-02-13T02:56:30.008220Z",
     "shell.execute_reply.started": "2022-02-12T14:35:16.161793Z"
    },
    "papermill": {
     "duration": 0.725921,
     "end_time": "2022-02-13T02:56:30.008923",
     "exception": false,
     "start_time": "2022-02-13T02:56:29.283002",
     "status": "completed"
    },
    "tags": []
   },
   "outputs": [
    {
     "data": {
      "text/plain": [
       "(Timestamp('2020-09-22 00:00:00'), Timestamp('2020-01-01 00:00:00'))"
      ]
     },
     "execution_count": 9,
     "metadata": {},
     "output_type": "execute_result"
    }
   ],
   "source": [
    "cond_min = pd.to_datetime(\"2020-1-1\") <= df_tran[\"t_dat\"] \n",
    "df_tran_2020 = df_tran[cond_min]\n",
    "\n",
    "df_tran_2020.t_dat.max(), df_tran_2020.t_dat.min()"
   ]
  },
  {
   "cell_type": "code",
   "execution_count": 10,
   "id": "6dc12f2a",
   "metadata": {
    "execution": {
     "iopub.execute_input": "2022-02-13T02:56:30.046341Z",
     "iopub.status.busy": "2022-02-13T02:56:30.045522Z",
     "iopub.status.idle": "2022-02-13T02:56:30.048698Z",
     "shell.execute_reply": "2022-02-13T02:56:30.049225Z",
     "shell.execute_reply.started": "2022-02-12T14:35:36.183109Z"
    },
    "papermill": {
     "duration": 0.024678,
     "end_time": "2022-02-13T02:56:30.049403",
     "exception": false,
     "start_time": "2022-02-13T02:56:30.024725",
     "status": "completed"
    },
    "tags": []
   },
   "outputs": [
    {
     "data": {
      "text/plain": [
       "((4411262, 5), (16396930, 5), (10980132, 5))"
      ]
     },
     "execution_count": 10,
     "metadata": {},
     "output_type": "execute_result"
    }
   ],
   "source": [
    "df_tran_2018.shape , df_tran_2019.shape, df_tran_2020.shape"
   ]
  },
  {
   "cell_type": "code",
   "execution_count": 11,
   "id": "20d8e4bc",
   "metadata": {
    "execution": {
     "iopub.execute_input": "2022-02-13T02:56:30.086904Z",
     "iopub.status.busy": "2022-02-13T02:56:30.085811Z",
     "iopub.status.idle": "2022-02-13T03:04:10.171542Z",
     "shell.execute_reply": "2022-02-13T03:04:10.170451Z",
     "shell.execute_reply.started": "2022-02-12T14:37:31.239255Z"
    },
    "papermill": {
     "duration": 460.106553,
     "end_time": "2022-02-13T03:04:10.171896",
     "exception": false,
     "start_time": "2022-02-13T02:56:30.065343",
     "status": "completed"
    },
    "tags": []
   },
   "outputs": [],
   "source": [
    "df_tran_2018.to_csv(\"transactions_train_2018.csv\", index=None)\n",
    "df_tran_2019.to_csv(\"transactions_train_2019.csv\", index=None)\n",
    "df_tran_2020.to_csv(\"transactions_train_2020.csv\", index=None)"
   ]
  },
  {
   "cell_type": "code",
   "execution_count": null,
   "id": "b17538f5",
   "metadata": {
    "papermill": {
     "duration": 0.082781,
     "end_time": "2022-02-13T03:04:10.274374",
     "exception": false,
     "start_time": "2022-02-13T03:04:10.191593",
     "status": "completed"
    },
    "tags": []
   },
   "outputs": [],
   "source": []
  }
 ],
 "metadata": {
  "kernelspec": {
   "display_name": "ml",
   "language": "python",
   "name": "python3"
  },
  "language_info": {
   "codemirror_mode": {
    "name": "ipython",
    "version": 3
   },
   "file_extension": ".py",
   "mimetype": "text/x-python",
   "name": "python",
   "nbconvert_exporter": "python",
   "pygments_lexer": "ipython3",
   "version": "3.8.3"
  },
  "papermill": {
   "default_parameters": {},
   "duration": 553.300617,
   "end_time": "2022-02-13T03:04:12.016737",
   "environment_variables": {},
   "exception": null,
   "input_path": "__notebook__.ipynb",
   "output_path": "__notebook__.ipynb",
   "parameters": {},
   "start_time": "2022-02-13T02:54:58.716120",
   "version": "2.3.3"
  },
  "vscode": {
   "interpreter": {
    "hash": "31d7989649452b8ff5b252a3e34caf45e4ffd8a5787fe28fc2ce0245f11b7782"
   }
  }
 },
 "nbformat": 4,
 "nbformat_minor": 5
}
